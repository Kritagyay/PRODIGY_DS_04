{
 "cells": [
  {
   "cell_type": "markdown",
   "id": "3ac181ff",
   "metadata": {},
   "source": [
    "# Twitter Sentiment Analysis"
   ]
  },
  {
   "cell_type": "code",
   "execution_count": 1,
   "id": "1e883e33",
   "metadata": {
    "_cell_guid": "b1076dfc-b9ad-4769-8c92-a6c4dae69d19",
    "_uuid": "8f2839f25d086af736a60e9eeb907d3b93b6e0e5",
    "execution": {
     "iopub.execute_input": "2024-01-01T05:35:45.932684Z",
     "iopub.status.busy": "2024-01-01T05:35:45.932199Z",
     "iopub.status.idle": "2024-01-01T05:35:46.445517Z",
     "shell.execute_reply": "2024-01-01T05:35:46.444553Z",
     "shell.execute_reply.started": "2024-01-01T05:35:45.932640Z"
    },
    "papermill": {
     "duration": 0.434763,
     "end_time": "2023-11-15T08:27:18.291268",
     "exception": false,
     "start_time": "2023-11-15T08:27:17.856505",
     "status": "completed"
    },
    "tags": []
   },
   "outputs": [],
   "source": [
    "\n",
    "import numpy as np # linear algebra\n",
    "import pandas as pd # data processing, CSV file I/O (e.g. pd.read_csv)\n"
   ]
  },
  {
   "cell_type": "markdown",
   "id": "8a86953b",
   "metadata": {
    "papermill": {
     "duration": 0.024642,
     "end_time": "2023-11-15T08:27:18.341993",
     "exception": false,
     "start_time": "2023-11-15T08:27:18.317351",
     "status": "completed"
    },
    "tags": []
   },
   "source": [
    "\n",
    "# **Table of Contents**\n",
    "\n",
    "\n",
    "1. Exploratory data analysis\n",
    "2. Prepare data\n",
    "3. Process data\n",
    "4. Encode data and cleaning\n",
    "5. Naive Bayes Model\n",
    "6. Results\n",
    "7. Confusion matrix\n",
    "8. Classification report\n",
    "9. ROC - AUC\n",
    "10. Conclusion\n"
   ]
  },
  {
   "cell_type": "markdown",
   "id": "1d1f1968",
   "metadata": {
    "papermill": {
     "duration": 0.025615,
     "end_time": "2023-11-15T08:27:18.392582",
     "exception": false,
     "start_time": "2023-11-15T08:27:18.366967",
     "status": "completed"
    },
    "tags": []
   },
   "source": [
    "**- Problem: Find out and compare the sentiment for computer games. Gives insigne which game is currentyl popular and unpopular**\n",
    "\n",
    "\n",
    "**- Data: Collected from twitter. Prelabeled sentences (positive, negative, neutral or irrelevant label)**\n",
    "\n",
    "**Games:**\n",
    "\n",
    "\n",
    "Borderlands, Tom Clancy's Rainbow Six, Madden NFL, League of Legends, Call of Duty, Call of Duty Black Ops Cold War, Apex Legends, World of Warcraft, Dota 2, NBA 2K, Tom Clancy's Ghost Recon, Battlefield, FIFA, Overwatch, Cyberpunk 2077, CS-GO (Counter-Strike: Global Offensive), Grand Theft Auto (GTA), Hearthstone, PlayerUnknown's Battlegrounds (PUBG), Fortnite, Red Dead Redemption (RDR), Assassin's Creed."
   ]
  },
  {
   "cell_type": "markdown",
   "id": "06e72053",
   "metadata": {
    "papermill": {
     "duration": 0.024628,
     "end_time": "2023-11-15T08:27:18.442227",
     "exception": false,
     "start_time": "2023-11-15T08:27:18.417599",
     "status": "completed"
    },
    "tags": []
   },
   "source": [
    "Import the dataset and all the necessary libraries"
   ]
  },
  {
   "cell_type": "code",
   "execution_count": 2,
   "id": "89660243",
   "metadata": {
    "execution": {
     "iopub.execute_input": "2024-01-01T05:35:46.448686Z",
     "iopub.status.busy": "2024-01-01T05:35:46.447775Z",
     "iopub.status.idle": "2024-01-01T05:36:05.591304Z",
     "shell.execute_reply": "2024-01-01T05:36:05.590220Z",
     "shell.execute_reply.started": "2024-01-01T05:35:46.448643Z"
    },
    "papermill": {
     "duration": 17.19106,
     "end_time": "2023-11-15T08:27:35.657570",
     "exception": false,
     "start_time": "2023-11-15T08:27:18.466510",
     "status": "completed"
    },
    "tags": []
   },
   "outputs": [
    {
     "name": "stdout",
     "output_type": "stream",
     "text": [
      "Requirement already satisfied: nltk in /opt/conda/lib/python3.10/site-packages (3.2.4)\n",
      "Requirement already satisfied: six in /opt/conda/lib/python3.10/site-packages (from nltk) (1.16.0)\n",
      "[nltk_data] Downloading package punkt to /usr/share/nltk_data...\n",
      "[nltk_data]   Package punkt is already up-to-date!\n",
      "[nltk_data] Downloading package stopwords to /usr/share/nltk_data...\n",
      "[nltk_data]   Package stopwords is already up-to-date!\n",
      "[nltk_data] Downloading package wordnet to /usr/share/nltk_data...\n",
      "[nltk_data]   Package wordnet is already up-to-date!\n",
      "[nltk_data] Downloading package omw-1.4 to /usr/share/nltk_data...\n"
     ]
    }
   ],
   "source": [
    "\n",
    "import pandas as pd\n",
    "from sklearn.preprocessing import LabelEncoder\n",
    "from sklearn.feature_extraction.text import TfidfVectorizer\n",
    "from sklearn.model_selection import train_test_split\n",
    "from sklearn.naive_bayes import MultinomialNB\n",
    "from sklearn.metrics import classification_report, accuracy_score\n",
    "import matplotlib.pyplot as plt\n",
    "import seaborn as sns\n",
    "!pip install nltk\n",
    "import nltk\n",
    "from nltk.corpus import stopwords\n",
    "from nltk.tokenize import word_tokenize\n",
    "from nltk.stem import PorterStemmer\n",
    "from sklearn.metrics import confusion_matrix\n",
    "\n",
    "import warnings\n",
    "warnings.filterwarnings(\"ignore\")\n",
    "\n",
    "\n",
    "\n",
    "# Download required NLTK data\n",
    "nltk.download('punkt')\n",
    "nltk.download('stopwords')\n",
    "nltk.download('wordnet')\n",
    "nltk.download('omw-1.4')\n",
    "\n",
    "# import dataset\n",
    "df_sentiment = pd.read_csv('/kaggle/input/tsa-dataset/twitter_training.csv')"
   ]
  },
  {
   "cell_type": "markdown",
   "id": "a11d47ff",
   "metadata": {
    "papermill": {
     "duration": 0.0778,
     "end_time": "2023-11-15T08:27:35.761832",
     "exception": false,
     "start_time": "2023-11-15T08:27:35.684032",
     "status": "completed"
    },
    "tags": []
   },
   "source": [
    "# **1. Exploratory data analysis** <a class=\"anchor\" id=\"1\"></a>\n",
    "\n",
    "[Table of Contents](#0.1)\n",
    "\n",
    "\n",
    "Now we will check the shape of the dataset, We will look what it contains, the column names, what it contains in the  columns."
   ]
  },
  {
   "cell_type": "code",
   "execution_count": 3,
   "id": "4dd8afb0",
   "metadata": {
    "execution": {
     "iopub.execute_input": "2024-01-01T05:36:05.593942Z",
     "iopub.status.busy": "2024-01-01T05:36:05.593477Z",
     "iopub.status.idle": "2024-01-01T05:36:05.603861Z",
     "shell.execute_reply": "2024-01-01T05:36:05.602662Z",
     "shell.execute_reply.started": "2024-01-01T05:36:05.593897Z"
    },
    "papermill": {
     "duration": 0.037416,
     "end_time": "2023-11-15T08:27:35.824664",
     "exception": false,
     "start_time": "2023-11-15T08:27:35.787248",
     "status": "completed"
    },
    "tags": []
   },
   "outputs": [
    {
     "data": {
      "text/plain": [
       "(74681, 4)"
      ]
     },
     "execution_count": 3,
     "metadata": {},
     "output_type": "execute_result"
    }
   ],
   "source": [
    "df_sentiment.shape"
   ]
  },
  {
   "cell_type": "code",
   "execution_count": 4,
   "id": "ac5c214e",
   "metadata": {
    "execution": {
     "iopub.execute_input": "2024-01-01T05:36:05.608691Z",
     "iopub.status.busy": "2024-01-01T05:36:05.607909Z",
     "iopub.status.idle": "2024-01-01T05:36:05.617187Z",
     "shell.execute_reply": "2024-01-01T05:36:05.616047Z",
     "shell.execute_reply.started": "2024-01-01T05:36:05.608646Z"
    },
    "papermill": {
     "duration": 0.036685,
     "end_time": "2023-11-15T08:27:35.887097",
     "exception": false,
     "start_time": "2023-11-15T08:27:35.850412",
     "status": "completed"
    },
    "tags": []
   },
   "outputs": [
    {
     "data": {
      "text/plain": [
       "Index(['2401', 'Borderlands', 'Positive',\n",
       "       'im getting on borderlands and i will murder you all ,'],\n",
       "      dtype='object')"
      ]
     },
     "execution_count": 4,
     "metadata": {},
     "output_type": "execute_result"
    }
   ],
   "source": [
    "df_sentiment.columns"
   ]
  },
  {
   "cell_type": "code",
   "execution_count": 5,
   "id": "24dd551a",
   "metadata": {
    "execution": {
     "iopub.execute_input": "2024-01-01T05:36:05.618767Z",
     "iopub.status.busy": "2024-01-01T05:36:05.618448Z",
     "iopub.status.idle": "2024-01-01T05:36:05.651058Z",
     "shell.execute_reply": "2024-01-01T05:36:05.649958Z",
     "shell.execute_reply.started": "2024-01-01T05:36:05.618739Z"
    },
    "papermill": {
     "duration": 0.050218,
     "end_time": "2023-11-15T08:27:35.963077",
     "exception": false,
     "start_time": "2023-11-15T08:27:35.912859",
     "status": "completed"
    },
    "tags": []
   },
   "outputs": [
    {
     "data": {
      "text/html": [
       "<div>\n",
       "<style scoped>\n",
       "    .dataframe tbody tr th:only-of-type {\n",
       "        vertical-align: middle;\n",
       "    }\n",
       "\n",
       "    .dataframe tbody tr th {\n",
       "        vertical-align: top;\n",
       "    }\n",
       "\n",
       "    .dataframe thead th {\n",
       "        text-align: right;\n",
       "    }\n",
       "</style>\n",
       "<table border=\"1\" class=\"dataframe\">\n",
       "  <thead>\n",
       "    <tr style=\"text-align: right;\">\n",
       "      <th></th>\n",
       "      <th>2401</th>\n",
       "      <th>Borderlands</th>\n",
       "      <th>Positive</th>\n",
       "      <th>im getting on borderlands and i will murder you all ,</th>\n",
       "    </tr>\n",
       "  </thead>\n",
       "  <tbody>\n",
       "    <tr>\n",
       "      <th>0</th>\n",
       "      <td>2401</td>\n",
       "      <td>Borderlands</td>\n",
       "      <td>Positive</td>\n",
       "      <td>I am coming to the borders and I will kill you all,</td>\n",
       "    </tr>\n",
       "    <tr>\n",
       "      <th>1</th>\n",
       "      <td>2401</td>\n",
       "      <td>Borderlands</td>\n",
       "      <td>Positive</td>\n",
       "      <td>im getting on borderlands and i will kill you all,</td>\n",
       "    </tr>\n",
       "    <tr>\n",
       "      <th>2</th>\n",
       "      <td>2401</td>\n",
       "      <td>Borderlands</td>\n",
       "      <td>Positive</td>\n",
       "      <td>im coming on borderlands and i will murder you all,</td>\n",
       "    </tr>\n",
       "    <tr>\n",
       "      <th>3</th>\n",
       "      <td>2401</td>\n",
       "      <td>Borderlands</td>\n",
       "      <td>Positive</td>\n",
       "      <td>im getting on borderlands 2 and i will murder you me all,</td>\n",
       "    </tr>\n",
       "    <tr>\n",
       "      <th>4</th>\n",
       "      <td>2401</td>\n",
       "      <td>Borderlands</td>\n",
       "      <td>Positive</td>\n",
       "      <td>im getting into borderlands and i can murder you all,</td>\n",
       "    </tr>\n",
       "    <tr>\n",
       "      <th>...</th>\n",
       "      <td>...</td>\n",
       "      <td>...</td>\n",
       "      <td>...</td>\n",
       "      <td>...</td>\n",
       "    </tr>\n",
       "    <tr>\n",
       "      <th>74676</th>\n",
       "      <td>9200</td>\n",
       "      <td>Nvidia</td>\n",
       "      <td>Positive</td>\n",
       "      <td>Just realized that the Windows partition of my Mac is like 6 years behind Nvidia drivers and I have no idea how I did not notice</td>\n",
       "    </tr>\n",
       "    <tr>\n",
       "      <th>74677</th>\n",
       "      <td>9200</td>\n",
       "      <td>Nvidia</td>\n",
       "      <td>Positive</td>\n",
       "      <td>Just realized that my Mac window partition is 6 years behind on Nvidia drivers and I have no idea how I didn't notice</td>\n",
       "    </tr>\n",
       "    <tr>\n",
       "      <th>74678</th>\n",
       "      <td>9200</td>\n",
       "      <td>Nvidia</td>\n",
       "      <td>Positive</td>\n",
       "      <td>Just realized the windows partition of my Mac is now 6 years behind on Nvidia drivers and I have no idea how he didn’t notice</td>\n",
       "    </tr>\n",
       "    <tr>\n",
       "      <th>74679</th>\n",
       "      <td>9200</td>\n",
       "      <td>Nvidia</td>\n",
       "      <td>Positive</td>\n",
       "      <td>Just realized between the windows partition of my Mac is like being 6 years behind on Nvidia drivers and cars I have no fucking idea how I ever didn ’ t notice</td>\n",
       "    </tr>\n",
       "    <tr>\n",
       "      <th>74680</th>\n",
       "      <td>9200</td>\n",
       "      <td>Nvidia</td>\n",
       "      <td>Positive</td>\n",
       "      <td>Just like the windows partition of my Mac is like 6 years behind on its drivers So you have no idea how I didn’t notice</td>\n",
       "    </tr>\n",
       "  </tbody>\n",
       "</table>\n",
       "<p>74681 rows × 4 columns</p>\n",
       "</div>"
      ],
      "text/plain": [
       "       2401  Borderlands  Positive  \\\n",
       "0      2401  Borderlands  Positive   \n",
       "1      2401  Borderlands  Positive   \n",
       "2      2401  Borderlands  Positive   \n",
       "3      2401  Borderlands  Positive   \n",
       "4      2401  Borderlands  Positive   \n",
       "...     ...          ...       ...   \n",
       "74676  9200       Nvidia  Positive   \n",
       "74677  9200       Nvidia  Positive   \n",
       "74678  9200       Nvidia  Positive   \n",
       "74679  9200       Nvidia  Positive   \n",
       "74680  9200       Nvidia  Positive   \n",
       "\n",
       "                                                                                                                 im getting on borderlands and i will murder you all ,  \n",
       "0                                                                                                                  I am coming to the borders and I will kill you all,  \n",
       "1                                                                                                                   im getting on borderlands and i will kill you all,  \n",
       "2                                                                                                                  im coming on borderlands and i will murder you all,  \n",
       "3                                                                                                            im getting on borderlands 2 and i will murder you me all,  \n",
       "4                                                                                                                im getting into borderlands and i can murder you all,  \n",
       "...                                                                                                                                                                ...  \n",
       "74676                                 Just realized that the Windows partition of my Mac is like 6 years behind Nvidia drivers and I have no idea how I did not notice  \n",
       "74677                                            Just realized that my Mac window partition is 6 years behind on Nvidia drivers and I have no idea how I didn't notice  \n",
       "74678                                    Just realized the windows partition of my Mac is now 6 years behind on Nvidia drivers and I have no idea how he didn’t notice  \n",
       "74679  Just realized between the windows partition of my Mac is like being 6 years behind on Nvidia drivers and cars I have no fucking idea how I ever didn ’ t notice  \n",
       "74680                                          Just like the windows partition of my Mac is like 6 years behind on its drivers So you have no idea how I didn’t notice  \n",
       "\n",
       "[74681 rows x 4 columns]"
      ]
     },
     "execution_count": 5,
     "metadata": {},
     "output_type": "execute_result"
    }
   ],
   "source": [
    "pd.set_option('display.max_colwidth', None)\n",
    "\n",
    "df_sentiment"
   ]
  },
  {
   "cell_type": "code",
   "execution_count": 6,
   "id": "a6a0ef5d",
   "metadata": {
    "execution": {
     "iopub.execute_input": "2024-01-01T05:36:05.653474Z",
     "iopub.status.busy": "2024-01-01T05:36:05.653016Z",
     "iopub.status.idle": "2024-01-01T05:36:05.679183Z",
     "shell.execute_reply": "2024-01-01T05:36:05.677947Z",
     "shell.execute_reply.started": "2024-01-01T05:36:05.653432Z"
    },
    "papermill": {
     "duration": 0.05125,
     "end_time": "2023-11-15T08:27:36.041229",
     "exception": false,
     "start_time": "2023-11-15T08:27:35.989979",
     "status": "completed"
    },
    "tags": []
   },
   "outputs": [
    {
     "name": "stdout",
     "output_type": "stream",
     "text": [
      "Borderlands\n",
      "TomClancysRainbowSix                 2400\n",
      "MaddenNFL                            2400\n",
      "Microsoft                            2400\n",
      "LeagueOfLegends                      2394\n",
      "CallOfDuty                           2394\n",
      "Verizon                              2382\n",
      "CallOfDutyBlackopsColdWar            2376\n",
      "ApexLegends                          2376\n",
      "Facebook                             2370\n",
      "WorldOfCraft                         2364\n",
      "Dota2                                2364\n",
      "NBA2K                                2352\n",
      "TomClancysGhostRecon                 2346\n",
      "Battlefield                          2346\n",
      "FIFA                                 2340\n",
      "Xbox(Xseries)                        2334\n",
      "Overwatch                            2334\n",
      "johnson&johnson                      2328\n",
      "Amazon                               2316\n",
      "PlayStation5(PS5)                    2310\n",
      "HomeDepot                            2310\n",
      "Cyberpunk2077                        2304\n",
      "CS-GO                                2304\n",
      "GrandTheftAuto(GTA)                  2304\n",
      "Hearthstone                          2298\n",
      "Nvidia                               2298\n",
      "Google                               2298\n",
      "Borderlands                          2285\n",
      "PlayerUnknownsBattlegrounds(PUBG)    2274\n",
      "Fortnite                             2274\n",
      "RedDeadRedemption(RDR)               2262\n",
      "AssassinsCreed                       2244\n",
      "Name: count, dtype: int64\n"
     ]
    }
   ],
   "source": [
    "# Count of unique games per GameName\n",
    "game_counts = df_sentiment['Borderlands'].value_counts()\n",
    "\n",
    "# Display the counts\n",
    "print(game_counts)\n"
   ]
  },
  {
   "cell_type": "code",
   "execution_count": 7,
   "id": "ce4408a8",
   "metadata": {
    "execution": {
     "iopub.execute_input": "2024-01-01T05:36:05.681245Z",
     "iopub.status.busy": "2024-01-01T05:36:05.680621Z",
     "iopub.status.idle": "2024-01-01T05:36:05.699209Z",
     "shell.execute_reply": "2024-01-01T05:36:05.697949Z",
     "shell.execute_reply.started": "2024-01-01T05:36:05.681209Z"
    },
    "papermill": {
     "duration": 0.045367,
     "end_time": "2023-11-15T08:27:36.113300",
     "exception": false,
     "start_time": "2023-11-15T08:27:36.067933",
     "status": "completed"
    },
    "tags": []
   },
   "outputs": [
    {
     "name": "stdout",
     "output_type": "stream",
     "text": [
      "Positive\n",
      "Negative      22542\n",
      "Positive      20831\n",
      "Neutral       18318\n",
      "Irrelevant    12990\n",
      "Name: count, dtype: int64\n"
     ]
    }
   ],
   "source": [
    "# Count of unique games per GameName\n",
    "game_counts = df_sentiment['Positive'].value_counts()\n",
    "\n",
    "# Display the counts\n",
    "print(game_counts)\n"
   ]
  },
  {
   "cell_type": "code",
   "execution_count": 8,
   "id": "cc3dc992",
   "metadata": {
    "execution": {
     "iopub.execute_input": "2024-01-01T05:36:05.701243Z",
     "iopub.status.busy": "2024-01-01T05:36:05.700906Z",
     "iopub.status.idle": "2024-01-01T05:36:05.855083Z",
     "shell.execute_reply": "2024-01-01T05:36:05.853896Z",
     "shell.execute_reply.started": "2024-01-01T05:36:05.701216Z"
    },
    "papermill": {
     "duration": 0.156648,
     "end_time": "2023-11-15T08:27:36.296626",
     "exception": false,
     "start_time": "2023-11-15T08:27:36.139978",
     "status": "completed"
    },
    "tags": []
   },
   "outputs": [
    {
     "data": {
      "text/html": [
       "<div>\n",
       "<style scoped>\n",
       "    .dataframe tbody tr th:only-of-type {\n",
       "        vertical-align: middle;\n",
       "    }\n",
       "\n",
       "    .dataframe tbody tr th {\n",
       "        vertical-align: top;\n",
       "    }\n",
       "\n",
       "    .dataframe thead th {\n",
       "        text-align: right;\n",
       "    }\n",
       "</style>\n",
       "<table border=\"1\" class=\"dataframe\">\n",
       "  <thead>\n",
       "    <tr style=\"text-align: right;\">\n",
       "      <th></th>\n",
       "      <th>2401</th>\n",
       "      <th>Borderlands</th>\n",
       "      <th>Positive</th>\n",
       "      <th>im getting on borderlands and i will murder you all ,</th>\n",
       "    </tr>\n",
       "  </thead>\n",
       "  <tbody>\n",
       "    <tr>\n",
       "      <th>count</th>\n",
       "      <td>74681.000000</td>\n",
       "      <td>74681</td>\n",
       "      <td>74681</td>\n",
       "      <td>73995</td>\n",
       "    </tr>\n",
       "    <tr>\n",
       "      <th>unique</th>\n",
       "      <td>NaN</td>\n",
       "      <td>32</td>\n",
       "      <td>4</td>\n",
       "      <td>69490</td>\n",
       "    </tr>\n",
       "    <tr>\n",
       "      <th>top</th>\n",
       "      <td>NaN</td>\n",
       "      <td>TomClancysRainbowSix</td>\n",
       "      <td>Negative</td>\n",
       "      <td></td>\n",
       "    </tr>\n",
       "    <tr>\n",
       "      <th>freq</th>\n",
       "      <td>NaN</td>\n",
       "      <td>2400</td>\n",
       "      <td>22542</td>\n",
       "      <td>172</td>\n",
       "    </tr>\n",
       "    <tr>\n",
       "      <th>mean</th>\n",
       "      <td>6432.640149</td>\n",
       "      <td>NaN</td>\n",
       "      <td>NaN</td>\n",
       "      <td>NaN</td>\n",
       "    </tr>\n",
       "    <tr>\n",
       "      <th>std</th>\n",
       "      <td>3740.423819</td>\n",
       "      <td>NaN</td>\n",
       "      <td>NaN</td>\n",
       "      <td>NaN</td>\n",
       "    </tr>\n",
       "    <tr>\n",
       "      <th>min</th>\n",
       "      <td>1.000000</td>\n",
       "      <td>NaN</td>\n",
       "      <td>NaN</td>\n",
       "      <td>NaN</td>\n",
       "    </tr>\n",
       "    <tr>\n",
       "      <th>25%</th>\n",
       "      <td>3195.000000</td>\n",
       "      <td>NaN</td>\n",
       "      <td>NaN</td>\n",
       "      <td>NaN</td>\n",
       "    </tr>\n",
       "    <tr>\n",
       "      <th>50%</th>\n",
       "      <td>6422.000000</td>\n",
       "      <td>NaN</td>\n",
       "      <td>NaN</td>\n",
       "      <td>NaN</td>\n",
       "    </tr>\n",
       "    <tr>\n",
       "      <th>75%</th>\n",
       "      <td>9601.000000</td>\n",
       "      <td>NaN</td>\n",
       "      <td>NaN</td>\n",
       "      <td>NaN</td>\n",
       "    </tr>\n",
       "    <tr>\n",
       "      <th>max</th>\n",
       "      <td>13200.000000</td>\n",
       "      <td>NaN</td>\n",
       "      <td>NaN</td>\n",
       "      <td>NaN</td>\n",
       "    </tr>\n",
       "  </tbody>\n",
       "</table>\n",
       "</div>"
      ],
      "text/plain": [
       "                2401           Borderlands  Positive  \\\n",
       "count   74681.000000                 74681     74681   \n",
       "unique           NaN                    32         4   \n",
       "top              NaN  TomClancysRainbowSix  Negative   \n",
       "freq             NaN                  2400     22542   \n",
       "mean     6432.640149                   NaN       NaN   \n",
       "std      3740.423819                   NaN       NaN   \n",
       "min         1.000000                   NaN       NaN   \n",
       "25%      3195.000000                   NaN       NaN   \n",
       "50%      6422.000000                   NaN       NaN   \n",
       "75%      9601.000000                   NaN       NaN   \n",
       "max     13200.000000                   NaN       NaN   \n",
       "\n",
       "       im getting on borderlands and i will murder you all ,  \n",
       "count                                                  73995  \n",
       "unique                                                 69490  \n",
       "top                                                           \n",
       "freq                                                     172  \n",
       "mean                                                     NaN  \n",
       "std                                                      NaN  \n",
       "min                                                      NaN  \n",
       "25%                                                      NaN  \n",
       "50%                                                      NaN  \n",
       "75%                                                      NaN  \n",
       "max                                                      NaN  "
      ]
     },
     "execution_count": 8,
     "metadata": {},
     "output_type": "execute_result"
    }
   ],
   "source": [
    "df_sentiment.describe(include='all')"
   ]
  },
  {
   "cell_type": "markdown",
   "id": "6c4bca21",
   "metadata": {
    "papermill": {
     "duration": 0.026607,
     "end_time": "2023-11-15T08:27:36.350048",
     "exception": false,
     "start_time": "2023-11-15T08:27:36.323441",
     "status": "completed"
    },
    "tags": []
   },
   "source": [
    "# **2. Prepare data** <a class=\"anchor\" id=\"2\"></a>\n",
    "\n",
    "[Table of Contents](#0.1)\n",
    "\n",
    "\n",
    "In this part we will rename the column names to better fit our need\n",
    "\n",
    "We will remove the the rows that do not contain computer games\n",
    "\n",
    "We will remove missing values by deleting the rows as we have enough data\n",
    "\n"
   ]
  },
  {
   "cell_type": "markdown",
   "id": "d9d9af0a",
   "metadata": {
    "papermill": {
     "duration": 0.026689,
     "end_time": "2023-11-15T08:27:36.403442",
     "exception": false,
     "start_time": "2023-11-15T08:27:36.376753",
     "status": "completed"
    },
    "tags": []
   },
   "source": [
    "Rename the columns"
   ]
  },
  {
   "cell_type": "code",
   "execution_count": 9,
   "id": "0be82f68",
   "metadata": {
    "execution": {
     "iopub.execute_input": "2024-01-01T05:36:05.857270Z",
     "iopub.status.busy": "2024-01-01T05:36:05.856891Z",
     "iopub.status.idle": "2024-01-01T05:36:05.862085Z",
     "shell.execute_reply": "2024-01-01T05:36:05.860630Z",
     "shell.execute_reply.started": "2024-01-01T05:36:05.857238Z"
    },
    "papermill": {
     "duration": 0.035284,
     "end_time": "2023-11-15T08:27:36.465171",
     "exception": false,
     "start_time": "2023-11-15T08:27:36.429887",
     "status": "completed"
    },
    "tags": []
   },
   "outputs": [],
   "source": [
    "df_sentiment.columns = ['EntryID', 'GameName', 'Sentiment', 'Text']\n"
   ]
  },
  {
   "cell_type": "markdown",
   "id": "352c376e",
   "metadata": {
    "papermill": {
     "duration": 0.026662,
     "end_time": "2023-11-15T08:27:36.518335",
     "exception": false,
     "start_time": "2023-11-15T08:27:36.491673",
     "status": "completed"
    },
    "tags": []
   },
   "source": [
    "Remove the non games from the mage columns"
   ]
  },
  {
   "cell_type": "code",
   "execution_count": 10,
   "id": "36734877",
   "metadata": {
    "execution": {
     "iopub.execute_input": "2024-01-01T05:36:05.867447Z",
     "iopub.status.busy": "2024-01-01T05:36:05.867030Z",
     "iopub.status.idle": "2024-01-01T05:36:05.886917Z",
     "shell.execute_reply": "2024-01-01T05:36:05.885512Z",
     "shell.execute_reply.started": "2024-01-01T05:36:05.867415Z"
    },
    "papermill": {
     "duration": 0.046355,
     "end_time": "2023-11-15T08:27:36.591340",
     "exception": false,
     "start_time": "2023-11-15T08:27:36.544985",
     "status": "completed"
    },
    "tags": []
   },
   "outputs": [],
   "source": [
    "# List of non-game names to be removed\n",
    "non_game_names = [\n",
    "    'Microsoft', 'Verizon', 'Facebook', 'johnson & johnson', 'Amazon', \n",
    "    'Home Depot', 'Xbox (X series)', 'PlayStation 5 (PS5)', 'Nvidia', 'Google'\n",
    "]\n",
    "\n",
    "# Filter the DataFrame to exclude rows with these non-game names\n",
    "df_sentiment = df_sentiment[~df_sentiment['GameName'].isin(non_game_names)]\n",
    "\n",
    "# Now df_sentiment_filtered contains only rows with actual game names"
   ]
  },
  {
   "cell_type": "code",
   "execution_count": 11,
   "id": "1f39eeb1",
   "metadata": {
    "execution": {
     "iopub.execute_input": "2024-01-01T05:36:05.889713Z",
     "iopub.status.busy": "2024-01-01T05:36:05.889079Z",
     "iopub.status.idle": "2024-01-01T05:36:05.907297Z",
     "shell.execute_reply": "2024-01-01T05:36:05.905981Z",
     "shell.execute_reply.started": "2024-01-01T05:36:05.889670Z"
    },
    "papermill": {
     "duration": 0.04574,
     "end_time": "2023-11-15T08:27:36.664014",
     "exception": false,
     "start_time": "2023-11-15T08:27:36.618274",
     "status": "completed"
    },
    "tags": []
   },
   "outputs": [
    {
     "name": "stdout",
     "output_type": "stream",
     "text": [
      "GameName\n",
      "TomClancysRainbowSix                 2400\n",
      "MaddenNFL                            2400\n",
      "CallOfDuty                           2394\n",
      "LeagueOfLegends                      2394\n",
      "CallOfDutyBlackopsColdWar            2376\n",
      "ApexLegends                          2376\n",
      "WorldOfCraft                         2364\n",
      "Dota2                                2364\n",
      "NBA2K                                2352\n",
      "Battlefield                          2346\n",
      "TomClancysGhostRecon                 2346\n",
      "FIFA                                 2340\n",
      "Xbox(Xseries)                        2334\n",
      "Overwatch                            2334\n",
      "johnson&johnson                      2328\n",
      "PlayStation5(PS5)                    2310\n",
      "HomeDepot                            2310\n",
      "CS-GO                                2304\n",
      "Cyberpunk2077                        2304\n",
      "GrandTheftAuto(GTA)                  2304\n",
      "Hearthstone                          2298\n",
      "Borderlands                          2285\n",
      "PlayerUnknownsBattlegrounds(PUBG)    2274\n",
      "Fortnite                             2274\n",
      "RedDeadRedemption(RDR)               2262\n",
      "AssassinsCreed                       2244\n",
      "Name: count, dtype: int64\n"
     ]
    }
   ],
   "source": [
    "# Count of unique games per GameName\n",
    "game_counts2 = df_sentiment['GameName'].value_counts()\n",
    "\n",
    "# Display the counts\n",
    "print(game_counts2)"
   ]
  },
  {
   "cell_type": "code",
   "execution_count": 12,
   "id": "f3bad9d2",
   "metadata": {
    "execution": {
     "iopub.execute_input": "2024-01-01T05:36:05.910228Z",
     "iopub.status.busy": "2024-01-01T05:36:05.909359Z",
     "iopub.status.idle": "2024-01-01T05:36:05.918648Z",
     "shell.execute_reply": "2024-01-01T05:36:05.917424Z",
     "shell.execute_reply.started": "2024-01-01T05:36:05.910181Z"
    },
    "papermill": {
     "duration": 0.036702,
     "end_time": "2023-11-15T08:27:36.727684",
     "exception": false,
     "start_time": "2023-11-15T08:27:36.690982",
     "status": "completed"
    },
    "tags": []
   },
   "outputs": [
    {
     "data": {
      "text/plain": [
       "(60617, 4)"
      ]
     },
     "execution_count": 12,
     "metadata": {},
     "output_type": "execute_result"
    }
   ],
   "source": [
    "df_sentiment.shape"
   ]
  },
  {
   "cell_type": "markdown",
   "id": "0b74f611",
   "metadata": {
    "papermill": {
     "duration": 0.026936,
     "end_time": "2023-11-15T08:27:36.781669",
     "exception": false,
     "start_time": "2023-11-15T08:27:36.754733",
     "status": "completed"
    },
    "tags": []
   },
   "source": [
    "See after if the same entry ids and text have duplicate have similar words. Or find other fix"
   ]
  },
  {
   "cell_type": "code",
   "execution_count": 13,
   "id": "a2c3ef75",
   "metadata": {
    "execution": {
     "iopub.execute_input": "2024-01-01T05:36:05.920483Z",
     "iopub.status.busy": "2024-01-01T05:36:05.920147Z",
     "iopub.status.idle": "2024-01-01T05:36:05.930522Z",
     "shell.execute_reply": "2024-01-01T05:36:05.929187Z",
     "shell.execute_reply.started": "2024-01-01T05:36:05.920455Z"
    },
    "papermill": {
     "duration": 0.037076,
     "end_time": "2023-11-15T08:27:36.846160",
     "exception": false,
     "start_time": "2023-11-15T08:27:36.809084",
     "status": "completed"
    },
    "tags": []
   },
   "outputs": [],
   "source": [
    "#df_sentiment = df_sentiment.drop_duplicates(subset='EntryID')\n"
   ]
  },
  {
   "cell_type": "markdown",
   "id": "f89ab1f1",
   "metadata": {
    "papermill": {
     "duration": 0.02709,
     "end_time": "2023-11-15T08:27:36.901553",
     "exception": false,
     "start_time": "2023-11-15T08:27:36.874463",
     "status": "completed"
    },
    "tags": []
   },
   "source": [
    "Fix missing values. Enough data jsut drop it"
   ]
  },
  {
   "cell_type": "code",
   "execution_count": 14,
   "id": "02b45a66",
   "metadata": {
    "execution": {
     "iopub.execute_input": "2024-01-01T05:36:05.932223Z",
     "iopub.status.busy": "2024-01-01T05:36:05.931847Z",
     "iopub.status.idle": "2024-01-01T05:36:05.970542Z",
     "shell.execute_reply": "2024-01-01T05:36:05.969197Z",
     "shell.execute_reply.started": "2024-01-01T05:36:05.932192Z"
    },
    "papermill": {
     "duration": 0.058456,
     "end_time": "2023-11-15T08:27:36.987062",
     "exception": false,
     "start_time": "2023-11-15T08:27:36.928606",
     "status": "completed"
    },
    "tags": []
   },
   "outputs": [
    {
     "data": {
      "text/plain": [
       "EntryID        0\n",
       "GameName       0\n",
       "Sentiment      0\n",
       "Text         531\n",
       "dtype: int64"
      ]
     },
     "execution_count": 14,
     "metadata": {},
     "output_type": "execute_result"
    }
   ],
   "source": [
    "missing_values = df_sentiment.isna().sum()\n",
    "missing_values"
   ]
  },
  {
   "cell_type": "markdown",
   "id": "63fb26a0",
   "metadata": {
    "papermill": {
     "duration": 0.026971,
     "end_time": "2023-11-15T08:27:37.041906",
     "exception": false,
     "start_time": "2023-11-15T08:27:37.014935",
     "status": "completed"
    },
    "tags": []
   },
   "source": [
    "Drop the rows with missing thext as dataset is large enough"
   ]
  },
  {
   "cell_type": "code",
   "execution_count": 15,
   "id": "369ad670",
   "metadata": {
    "execution": {
     "iopub.execute_input": "2024-01-01T05:36:05.972144Z",
     "iopub.status.busy": "2024-01-01T05:36:05.971798Z",
     "iopub.status.idle": "2024-01-01T05:36:06.030042Z",
     "shell.execute_reply": "2024-01-01T05:36:06.028882Z",
     "shell.execute_reply.started": "2024-01-01T05:36:05.972115Z"
    },
    "papermill": {
     "duration": 0.085579,
     "end_time": "2023-11-15T08:27:37.154270",
     "exception": false,
     "start_time": "2023-11-15T08:27:37.068691",
     "status": "completed"
    },
    "tags": []
   },
   "outputs": [
    {
     "name": "stdout",
     "output_type": "stream",
     "text": [
      "Missing values after removal:\n",
      " EntryID      0\n",
      "GameName     0\n",
      "Sentiment    0\n",
      "Text         0\n",
      "dtype: int64\n"
     ]
    }
   ],
   "source": [
    "# Remove rows with any missing values\n",
    "df_sentiment = df_sentiment.dropna()\n",
    "\n",
    "# Check for missing values again to confirm\n",
    "missing_values = df_sentiment.isna().sum()\n",
    "print(\"Missing values after removal:\\n\", missing_values)"
   ]
  },
  {
   "cell_type": "markdown",
   "id": "4624fb19",
   "metadata": {
    "papermill": {
     "duration": 0.026415,
     "end_time": "2023-11-15T08:27:37.207960",
     "exception": false,
     "start_time": "2023-11-15T08:27:37.181545",
     "status": "completed"
    },
    "tags": []
   },
   "source": [
    "Remove the irrelevant words"
   ]
  },
  {
   "cell_type": "code",
   "execution_count": 16,
   "id": "ee652a07",
   "metadata": {
    "execution": {
     "iopub.execute_input": "2024-01-01T05:36:06.032001Z",
     "iopub.status.busy": "2024-01-01T05:36:06.031661Z",
     "iopub.status.idle": "2024-01-01T05:36:06.046363Z",
     "shell.execute_reply": "2024-01-01T05:36:06.044657Z",
     "shell.execute_reply.started": "2024-01-01T05:36:06.031972Z"
    },
    "papermill": {
     "duration": 0.042436,
     "end_time": "2023-11-15T08:27:37.277566",
     "exception": false,
     "start_time": "2023-11-15T08:27:37.235130",
     "status": "completed"
    },
    "tags": []
   },
   "outputs": [],
   "source": [
    "# Filter out 'irrelevant' and 'neutral' rows from the same DataFrame\n",
    "df_sentiment = df_sentiment[~df_sentiment['Sentiment'].isin(['Irrelevant'])]"
   ]
  },
  {
   "cell_type": "code",
   "execution_count": 17,
   "id": "e0dc78b3",
   "metadata": {
    "execution": {
     "iopub.execute_input": "2024-01-01T05:36:06.048885Z",
     "iopub.status.busy": "2024-01-01T05:36:06.048402Z",
     "iopub.status.idle": "2024-01-01T05:36:06.056146Z",
     "shell.execute_reply": "2024-01-01T05:36:06.055060Z",
     "shell.execute_reply.started": "2024-01-01T05:36:06.048838Z"
    },
    "papermill": {
     "duration": 0.035639,
     "end_time": "2023-11-15T08:27:37.339608",
     "exception": false,
     "start_time": "2023-11-15T08:27:37.303969",
     "status": "completed"
    },
    "tags": []
   },
   "outputs": [
    {
     "data": {
      "text/plain": [
       "(49038, 4)"
      ]
     },
     "execution_count": 17,
     "metadata": {},
     "output_type": "execute_result"
    }
   ],
   "source": [
    "df_sentiment.shape"
   ]
  },
  {
   "cell_type": "markdown",
   "id": "bb5c7e86",
   "metadata": {
    "papermill": {
     "duration": 0.026378,
     "end_time": "2023-11-15T08:27:37.392661",
     "exception": false,
     "start_time": "2023-11-15T08:27:37.366283",
     "status": "completed"
    },
    "tags": []
   },
   "source": [
    "# **3. Processing data** <a class=\"anchor\" id=\"3\"></a>\n",
    "\n",
    "[Table of Contents](#0.1)\n",
    "\n",
    "\n",
    "Data processing steps:\n",
    "\n",
    "    - Tokenization\n",
    "    \n",
    "    - Removing stop words\n",
    "    \n",
    "    - Removing non alphabetic\n",
    "    \n",
    "    - Use stemming to remove the ending like (ing..)\n",
    "    \n",
    "We will vizualise the data:\n",
    "\n",
    "    - Check the frequncy of positive, negative, neutral and irrelevant words \n",
    "\n",
    "    - Check whece words are more frequent\n",
    "    \n",
    "    - Check the frequency of words in sentiment categories\n",
    "    \n",
    " "
   ]
  },
  {
   "cell_type": "markdown",
   "id": "ff2ae934",
   "metadata": {
    "papermill": {
     "duration": 0.026616,
     "end_time": "2023-11-15T08:27:37.446165",
     "exception": false,
     "start_time": "2023-11-15T08:27:37.419549",
     "status": "completed"
    },
    "tags": []
   },
   "source": [
    "tokenize, remove stop words, remove non alpha, steam words."
   ]
  },
  {
   "cell_type": "code",
   "execution_count": 18,
   "id": "3428631a",
   "metadata": {
    "execution": {
     "iopub.execute_input": "2024-01-01T05:36:06.058253Z",
     "iopub.status.busy": "2024-01-01T05:36:06.057884Z",
     "iopub.status.idle": "2024-01-01T05:36:56.791087Z",
     "shell.execute_reply": "2024-01-01T05:36:56.789798Z",
     "shell.execute_reply.started": "2024-01-01T05:36:06.058223Z"
    },
    "papermill": {
     "duration": 49.016441,
     "end_time": "2023-11-15T08:28:26.489262",
     "exception": false,
     "start_time": "2023-11-15T08:27:37.472821",
     "status": "completed"
    },
    "tags": []
   },
   "outputs": [],
   "source": [
    "\n",
    "# Define preprocessing functions\n",
    "def tokenize(text):\n",
    "    return word_tokenize(text)\n",
    "\n",
    "def remove_stop_words(tokens):\n",
    "    stop_words = set(stopwords.words('english'))\n",
    "    return [word for word in tokens if word not in stop_words]\n",
    "\n",
    "def remove_non_alphabetic(tokens):\n",
    "    return [word for word in tokens if word.isalpha()]\n",
    "\n",
    "def stem_words(tokens):\n",
    "    stemmer = PorterStemmer()\n",
    "    return [stemmer.stem(word) for word in tokens]\n",
    "\n",
    "def preprocess_text(text):\n",
    "    tokens = tokenize(text)\n",
    "    tokens = remove_stop_words(tokens)\n",
    "    tokens = remove_non_alphabetic(tokens)\n",
    "    tokens = stem_words(tokens)\n",
    "    return tokens\n",
    "\n",
    "# Apply preprocessing to the 'Text' column\n",
    "df_sentiment['Processed_Text'] = df_sentiment['Text'].apply(preprocess_text)\n"
   ]
  },
  {
   "cell_type": "code",
   "execution_count": 19,
   "id": "7f04f5a4",
   "metadata": {
    "execution": {
     "iopub.execute_input": "2024-01-01T05:36:56.792871Z",
     "iopub.status.busy": "2024-01-01T05:36:56.792511Z",
     "iopub.status.idle": "2024-01-01T05:36:56.815060Z",
     "shell.execute_reply": "2024-01-01T05:36:56.813862Z",
     "shell.execute_reply.started": "2024-01-01T05:36:56.792833Z"
    },
    "papermill": {
     "duration": 0.049363,
     "end_time": "2023-11-15T08:28:26.565626",
     "exception": false,
     "start_time": "2023-11-15T08:28:26.516263",
     "status": "completed"
    },
    "tags": []
   },
   "outputs": [
    {
     "data": {
      "text/html": [
       "<div>\n",
       "<style scoped>\n",
       "    .dataframe tbody tr th:only-of-type {\n",
       "        vertical-align: middle;\n",
       "    }\n",
       "\n",
       "    .dataframe tbody tr th {\n",
       "        vertical-align: top;\n",
       "    }\n",
       "\n",
       "    .dataframe thead th {\n",
       "        text-align: right;\n",
       "    }\n",
       "</style>\n",
       "<table border=\"1\" class=\"dataframe\">\n",
       "  <thead>\n",
       "    <tr style=\"text-align: right;\">\n",
       "      <th></th>\n",
       "      <th>EntryID</th>\n",
       "      <th>GameName</th>\n",
       "      <th>Sentiment</th>\n",
       "      <th>Text</th>\n",
       "      <th>Processed_Text</th>\n",
       "    </tr>\n",
       "  </thead>\n",
       "  <tbody>\n",
       "    <tr>\n",
       "      <th>0</th>\n",
       "      <td>2401</td>\n",
       "      <td>Borderlands</td>\n",
       "      <td>Positive</td>\n",
       "      <td>I am coming to the borders and I will kill you all,</td>\n",
       "      <td>[I, come, border, I, kill]</td>\n",
       "    </tr>\n",
       "    <tr>\n",
       "      <th>1</th>\n",
       "      <td>2401</td>\n",
       "      <td>Borderlands</td>\n",
       "      <td>Positive</td>\n",
       "      <td>im getting on borderlands and i will kill you all,</td>\n",
       "      <td>[im, get, borderland, kill]</td>\n",
       "    </tr>\n",
       "    <tr>\n",
       "      <th>2</th>\n",
       "      <td>2401</td>\n",
       "      <td>Borderlands</td>\n",
       "      <td>Positive</td>\n",
       "      <td>im coming on borderlands and i will murder you all,</td>\n",
       "      <td>[im, come, borderland, murder]</td>\n",
       "    </tr>\n",
       "    <tr>\n",
       "      <th>3</th>\n",
       "      <td>2401</td>\n",
       "      <td>Borderlands</td>\n",
       "      <td>Positive</td>\n",
       "      <td>im getting on borderlands 2 and i will murder you me all,</td>\n",
       "      <td>[im, get, borderland, murder]</td>\n",
       "    </tr>\n",
       "    <tr>\n",
       "      <th>4</th>\n",
       "      <td>2401</td>\n",
       "      <td>Borderlands</td>\n",
       "      <td>Positive</td>\n",
       "      <td>im getting into borderlands and i can murder you all,</td>\n",
       "      <td>[im, get, borderland, murder]</td>\n",
       "    </tr>\n",
       "    <tr>\n",
       "      <th>...</th>\n",
       "      <td>...</td>\n",
       "      <td>...</td>\n",
       "      <td>...</td>\n",
       "      <td>...</td>\n",
       "      <td>...</td>\n",
       "    </tr>\n",
       "    <tr>\n",
       "      <th>72378</th>\n",
       "      <td>11200</td>\n",
       "      <td>TomClancysGhostRecon</td>\n",
       "      <td>Neutral</td>\n",
       "      <td>Tom Clancy's Ghost Recon: Choke Point ift.tt / 36QWteH</td>\n",
       "      <td>[tom, clanci, ghost, recon, choke, point]</td>\n",
       "    </tr>\n",
       "    <tr>\n",
       "      <th>72379</th>\n",
       "      <td>11200</td>\n",
       "      <td>TomClancysGhostRecon</td>\n",
       "      <td>Neutral</td>\n",
       "      <td>Tom Clancy's Ghost Recon: Choke Point i.tt / 36QWteH</td>\n",
       "      <td>[tom, clanci, ghost, recon, choke, point]</td>\n",
       "    </tr>\n",
       "    <tr>\n",
       "      <th>72380</th>\n",
       "      <td>11200</td>\n",
       "      <td>TomClancysGhostRecon</td>\n",
       "      <td>Neutral</td>\n",
       "      <td>Tom lin Ghost Recon: Choke Point ift.tt/36QWteH</td>\n",
       "      <td>[tom, lin, ghost, recon, choke, point]</td>\n",
       "    </tr>\n",
       "    <tr>\n",
       "      <th>72381</th>\n",
       "      <td>11200</td>\n",
       "      <td>TomClancysGhostRecon</td>\n",
       "      <td>Neutral</td>\n",
       "      <td>In Tom Clancy'A s The Ghost House Recon : Choke Point ift. tt / 36QWteH</td>\n",
       "      <td>[In, tom, the, ghost, hous, recon, choke, point, ift, tt]</td>\n",
       "    </tr>\n",
       "    <tr>\n",
       "      <th>72382</th>\n",
       "      <td>11200</td>\n",
       "      <td>TomClancysGhostRecon</td>\n",
       "      <td>Neutral</td>\n",
       "      <td>Jack Clancy's Ghost Recon: a bark ift.tt/36QWteH</td>\n",
       "      <td>[jack, clanci, ghost, recon, bark]</td>\n",
       "    </tr>\n",
       "  </tbody>\n",
       "</table>\n",
       "<p>49038 rows × 5 columns</p>\n",
       "</div>"
      ],
      "text/plain": [
       "       EntryID              GameName Sentiment  \\\n",
       "0         2401           Borderlands  Positive   \n",
       "1         2401           Borderlands  Positive   \n",
       "2         2401           Borderlands  Positive   \n",
       "3         2401           Borderlands  Positive   \n",
       "4         2401           Borderlands  Positive   \n",
       "...        ...                   ...       ...   \n",
       "72378    11200  TomClancysGhostRecon   Neutral   \n",
       "72379    11200  TomClancysGhostRecon   Neutral   \n",
       "72380    11200  TomClancysGhostRecon   Neutral   \n",
       "72381    11200  TomClancysGhostRecon   Neutral   \n",
       "72382    11200  TomClancysGhostRecon   Neutral   \n",
       "\n",
       "                                                                          Text  \\\n",
       "0                          I am coming to the borders and I will kill you all,   \n",
       "1                           im getting on borderlands and i will kill you all,   \n",
       "2                          im coming on borderlands and i will murder you all,   \n",
       "3                    im getting on borderlands 2 and i will murder you me all,   \n",
       "4                        im getting into borderlands and i can murder you all,   \n",
       "...                                                                        ...   \n",
       "72378                   Tom Clancy's Ghost Recon: Choke Point ift.tt / 36QWteH   \n",
       "72379                     Tom Clancy's Ghost Recon: Choke Point i.tt / 36QWteH   \n",
       "72380                          Tom lin Ghost Recon: Choke Point ift.tt/36QWteH   \n",
       "72381  In Tom Clancy'A s The Ghost House Recon : Choke Point ift. tt / 36QWteH   \n",
       "72382                         Jack Clancy's Ghost Recon: a bark ift.tt/36QWteH   \n",
       "\n",
       "                                                  Processed_Text  \n",
       "0                                     [I, come, border, I, kill]  \n",
       "1                                    [im, get, borderland, kill]  \n",
       "2                                 [im, come, borderland, murder]  \n",
       "3                                  [im, get, borderland, murder]  \n",
       "4                                  [im, get, borderland, murder]  \n",
       "...                                                          ...  \n",
       "72378                  [tom, clanci, ghost, recon, choke, point]  \n",
       "72379                  [tom, clanci, ghost, recon, choke, point]  \n",
       "72380                     [tom, lin, ghost, recon, choke, point]  \n",
       "72381  [In, tom, the, ghost, hous, recon, choke, point, ift, tt]  \n",
       "72382                         [jack, clanci, ghost, recon, bark]  \n",
       "\n",
       "[49038 rows x 5 columns]"
      ]
     },
     "execution_count": 19,
     "metadata": {},
     "output_type": "execute_result"
    }
   ],
   "source": [
    "df_sentiment"
   ]
  },
  {
   "cell_type": "markdown",
   "id": "57f6759a",
   "metadata": {
    "papermill": {
     "duration": 0.026214,
     "end_time": "2023-11-15T08:28:26.619269",
     "exception": false,
     "start_time": "2023-11-15T08:28:26.593055",
     "status": "completed"
    },
    "tags": []
   },
   "source": [
    "Visualize data\n"
   ]
  },
  {
   "cell_type": "code",
   "execution_count": 20,
   "id": "e2c9cefd",
   "metadata": {
    "execution": {
     "iopub.execute_input": "2024-01-01T05:36:56.817075Z",
     "iopub.status.busy": "2024-01-01T05:36:56.816662Z",
     "iopub.status.idle": "2024-01-01T05:36:56.957933Z",
     "shell.execute_reply": "2024-01-01T05:36:56.956332Z",
     "shell.execute_reply.started": "2024-01-01T05:36:56.817041Z"
    },
    "papermill": {
     "duration": 0.154761,
     "end_time": "2023-11-15T08:28:26.800688",
     "exception": false,
     "start_time": "2023-11-15T08:28:26.645927",
     "status": "completed"
    },
    "tags": []
   },
   "outputs": [],
   "source": [
    "from collections import Counter\n",
    "import itertools\n",
    "\n",
    "# Assuming 'Processed_Text' is a list of words for each row\n",
    "all_words = list(itertools.chain(*df_sentiment['Processed_Text']))\n",
    "word_counts = Counter(all_words)\n",
    "\n",
    "# Filter out words that appear only once\n",
    "repeating_words = {word: count for word, count in word_counts.items() if count > 1}\n"
   ]
  },
  {
   "cell_type": "code",
   "execution_count": 21,
   "id": "2359823b",
   "metadata": {
    "execution": {
     "iopub.execute_input": "2024-01-01T05:36:56.960370Z",
     "iopub.status.busy": "2024-01-01T05:36:56.959658Z",
     "iopub.status.idle": "2024-01-01T05:36:56.978673Z",
     "shell.execute_reply": "2024-01-01T05:36:56.977627Z",
     "shell.execute_reply.started": "2024-01-01T05:36:56.960316Z"
    },
    "papermill": {
     "duration": 0.042459,
     "end_time": "2023-11-15T08:28:26.871497",
     "exception": false,
     "start_time": "2023-11-15T08:28:26.829038",
     "status": "completed"
    },
    "tags": []
   },
   "outputs": [],
   "source": [
    "sentiment_counts = df_sentiment['Sentiment'].value_counts()\n"
   ]
  },
  {
   "cell_type": "code",
   "execution_count": 22,
   "id": "9ac4f4c6",
   "metadata": {
    "execution": {
     "iopub.execute_input": "2024-01-01T05:36:56.981695Z",
     "iopub.status.busy": "2024-01-01T05:36:56.980297Z",
     "iopub.status.idle": "2024-01-01T05:36:57.338315Z",
     "shell.execute_reply": "2024-01-01T05:36:57.337006Z",
     "shell.execute_reply.started": "2024-01-01T05:36:56.981528Z"
    },
    "papermill": {
     "duration": 0.335715,
     "end_time": "2023-11-15T08:28:27.234143",
     "exception": false,
     "start_time": "2023-11-15T08:28:26.898428",
     "status": "completed"
    },
    "tags": []
   },
   "outputs": [
    {
     "data": {
      "image/png": "[encoded data removed]",
      "text/plain": [
       "<Figure size 640x480 with 1 Axes>"
      ]
     },
     "metadata": {},
     "output_type": "display_data"
    }
   ],
   "source": [
    "\n",
    "\n",
    "# Assuming 'sentiment_counts' is your Series with sentiment counts\n",
    "sns.barplot(x=sentiment_counts.index, y=sentiment_counts.values)\n",
    "plt.title('Sentiment Distribution')\n",
    "plt.ylabel('Counts')\n",
    "plt.xlabel('Sentiment')\n",
    "plt.show()\n"
   ]
  },
  {
   "cell_type": "code",
   "execution_count": 23,
   "id": "11f64a6e",
   "metadata": {
    "execution": {
     "iopub.execute_input": "2024-01-01T05:36:57.340412Z",
     "iopub.status.busy": "2024-01-01T05:36:57.340060Z",
     "iopub.status.idle": "2024-01-01T05:36:57.346164Z",
     "shell.execute_reply": "2024-01-01T05:36:57.344637Z",
     "shell.execute_reply.started": "2024-01-01T05:36:57.340383Z"
    },
    "papermill": {
     "duration": 5.47535,
     "end_time": "2023-11-15T08:28:32.739371",
     "exception": false,
     "start_time": "2023-11-15T08:28:27.264021",
     "status": "completed"
    },
    "tags": []
   },
   "outputs": [],
   "source": [
    "\n",
    "\n",
    "# # Assuming 'all_words' is a list of all words in your processed text\n",
    "# wordcloud = WordCloud(width = 800, height = 800, \n",
    "#                       background_color ='white', \n",
    "#                       min_font_size = 10).generate(' '.join(all_words))\n",
    "\n",
    "# # Plot the WordCloud image                        \n",
    "# plt.figure(figsize = (8, 8), facecolor = None) \n",
    "# plt.imshow(wordcloud) \n",
    "# plt.axis(\"off\") \n",
    "# plt.tight_layout(pad = 0) \n",
    "  \n",
    "# plt.show()\n"
   ]
  },
  {
   "cell_type": "code",
   "execution_count": 24,
   "id": "cd0fdcd6",
   "metadata": {
    "execution": {
     "iopub.execute_input": "2024-01-01T05:36:57.348270Z",
     "iopub.status.busy": "2024-01-01T05:36:57.347772Z",
     "iopub.status.idle": "2024-01-01T05:36:57.377657Z",
     "shell.execute_reply": "2024-01-01T05:36:57.375751Z",
     "shell.execute_reply.started": "2024-01-01T05:36:57.348214Z"
    },
    "papermill": {
     "duration": 0.05641,
     "end_time": "2023-11-15T08:28:32.829700",
     "exception": false,
     "start_time": "2023-11-15T08:28:32.773290",
     "status": "completed"
    },
    "tags": []
   },
   "outputs": [
    {
     "data": {
      "text/html": [
       "<div>\n",
       "<style scoped>\n",
       "    .dataframe tbody tr th:only-of-type {\n",
       "        vertical-align: middle;\n",
       "    }\n",
       "\n",
       "    .dataframe tbody tr th {\n",
       "        vertical-align: top;\n",
       "    }\n",
       "\n",
       "    .dataframe thead th {\n",
       "        text-align: right;\n",
       "    }\n",
       "</style>\n",
       "<table border=\"1\" class=\"dataframe\">\n",
       "  <thead>\n",
       "    <tr style=\"text-align: right;\">\n",
       "      <th></th>\n",
       "      <th>EntryID</th>\n",
       "      <th>GameName</th>\n",
       "      <th>Sentiment</th>\n",
       "      <th>Text</th>\n",
       "      <th>Processed_Text</th>\n",
       "    </tr>\n",
       "  </thead>\n",
       "  <tbody>\n",
       "    <tr>\n",
       "      <th>0</th>\n",
       "      <td>2401</td>\n",
       "      <td>Borderlands</td>\n",
       "      <td>Positive</td>\n",
       "      <td>I am coming to the borders and I will kill you all,</td>\n",
       "      <td>[I, come, border, I, kill]</td>\n",
       "    </tr>\n",
       "    <tr>\n",
       "      <th>1</th>\n",
       "      <td>2401</td>\n",
       "      <td>Borderlands</td>\n",
       "      <td>Positive</td>\n",
       "      <td>im getting on borderlands and i will kill you all,</td>\n",
       "      <td>[im, get, borderland, kill]</td>\n",
       "    </tr>\n",
       "    <tr>\n",
       "      <th>2</th>\n",
       "      <td>2401</td>\n",
       "      <td>Borderlands</td>\n",
       "      <td>Positive</td>\n",
       "      <td>im coming on borderlands and i will murder you all,</td>\n",
       "      <td>[im, come, borderland, murder]</td>\n",
       "    </tr>\n",
       "    <tr>\n",
       "      <th>3</th>\n",
       "      <td>2401</td>\n",
       "      <td>Borderlands</td>\n",
       "      <td>Positive</td>\n",
       "      <td>im getting on borderlands 2 and i will murder you me all,</td>\n",
       "      <td>[im, get, borderland, murder]</td>\n",
       "    </tr>\n",
       "    <tr>\n",
       "      <th>4</th>\n",
       "      <td>2401</td>\n",
       "      <td>Borderlands</td>\n",
       "      <td>Positive</td>\n",
       "      <td>im getting into borderlands and i can murder you all,</td>\n",
       "      <td>[im, get, borderland, murder]</td>\n",
       "    </tr>\n",
       "    <tr>\n",
       "      <th>...</th>\n",
       "      <td>...</td>\n",
       "      <td>...</td>\n",
       "      <td>...</td>\n",
       "      <td>...</td>\n",
       "      <td>...</td>\n",
       "    </tr>\n",
       "    <tr>\n",
       "      <th>72378</th>\n",
       "      <td>11200</td>\n",
       "      <td>TomClancysGhostRecon</td>\n",
       "      <td>Neutral</td>\n",
       "      <td>Tom Clancy's Ghost Recon: Choke Point ift.tt / 36QWteH</td>\n",
       "      <td>[tom, clanci, ghost, recon, choke, point]</td>\n",
       "    </tr>\n",
       "    <tr>\n",
       "      <th>72379</th>\n",
       "      <td>11200</td>\n",
       "      <td>TomClancysGhostRecon</td>\n",
       "      <td>Neutral</td>\n",
       "      <td>Tom Clancy's Ghost Recon: Choke Point i.tt / 36QWteH</td>\n",
       "      <td>[tom, clanci, ghost, recon, choke, point]</td>\n",
       "    </tr>\n",
       "    <tr>\n",
       "      <th>72380</th>\n",
       "      <td>11200</td>\n",
       "      <td>TomClancysGhostRecon</td>\n",
       "      <td>Neutral</td>\n",
       "      <td>Tom lin Ghost Recon: Choke Point ift.tt/36QWteH</td>\n",
       "      <td>[tom, lin, ghost, recon, choke, point]</td>\n",
       "    </tr>\n",
       "    <tr>\n",
       "      <th>72381</th>\n",
       "      <td>11200</td>\n",
       "      <td>TomClancysGhostRecon</td>\n",
       "      <td>Neutral</td>\n",
       "      <td>In Tom Clancy'A s The Ghost House Recon : Choke Point ift. tt / 36QWteH</td>\n",
       "      <td>[In, tom, the, ghost, hous, recon, choke, point, ift, tt]</td>\n",
       "    </tr>\n",
       "    <tr>\n",
       "      <th>72382</th>\n",
       "      <td>11200</td>\n",
       "      <td>TomClancysGhostRecon</td>\n",
       "      <td>Neutral</td>\n",
       "      <td>Jack Clancy's Ghost Recon: a bark ift.tt/36QWteH</td>\n",
       "      <td>[jack, clanci, ghost, recon, bark]</td>\n",
       "    </tr>\n",
       "  </tbody>\n",
       "</table>\n",
       "<p>49038 rows × 5 columns</p>\n",
       "</div>"
      ],
      "text/plain": [
       "       EntryID              GameName Sentiment  \\\n",
       "0         2401           Borderlands  Positive   \n",
       "1         2401           Borderlands  Positive   \n",
       "2         2401           Borderlands  Positive   \n",
       "3         2401           Borderlands  Positive   \n",
       "4         2401           Borderlands  Positive   \n",
       "...        ...                   ...       ...   \n",
       "72378    11200  TomClancysGhostRecon   Neutral   \n",
       "72379    11200  TomClancysGhostRecon   Neutral   \n",
       "72380    11200  TomClancysGhostRecon   Neutral   \n",
       "72381    11200  TomClancysGhostRecon   Neutral   \n",
       "72382    11200  TomClancysGhostRecon   Neutral   \n",
       "\n",
       "                                                                          Text  \\\n",
       "0                          I am coming to the borders and I will kill you all,   \n",
       "1                           im getting on borderlands and i will kill you all,   \n",
       "2                          im coming on borderlands and i will murder you all,   \n",
       "3                    im getting on borderlands 2 and i will murder you me all,   \n",
       "4                        im getting into borderlands and i can murder you all,   \n",
       "...                                                                        ...   \n",
       "72378                   Tom Clancy's Ghost Recon: Choke Point ift.tt / 36QWteH   \n",
       "72379                     Tom Clancy's Ghost Recon: Choke Point i.tt / 36QWteH   \n",
       "72380                          Tom lin Ghost Recon: Choke Point ift.tt/36QWteH   \n",
       "72381  In Tom Clancy'A s The Ghost House Recon : Choke Point ift. tt / 36QWteH   \n",
       "72382                         Jack Clancy's Ghost Recon: a bark ift.tt/36QWteH   \n",
       "\n",
       "                                                  Processed_Text  \n",
       "0                                     [I, come, border, I, kill]  \n",
       "1                                    [im, get, borderland, kill]  \n",
       "2                                 [im, come, borderland, murder]  \n",
       "3                                  [im, get, borderland, murder]  \n",
       "4                                  [im, get, borderland, murder]  \n",
       "...                                                          ...  \n",
       "72378                  [tom, clanci, ghost, recon, choke, point]  \n",
       "72379                  [tom, clanci, ghost, recon, choke, point]  \n",
       "72380                     [tom, lin, ghost, recon, choke, point]  \n",
       "72381  [In, tom, the, ghost, hous, recon, choke, point, ift, tt]  \n",
       "72382                         [jack, clanci, ghost, recon, bark]  \n",
       "\n",
       "[49038 rows x 5 columns]"
      ]
     },
     "execution_count": 24,
     "metadata": {},
     "output_type": "execute_result"
    }
   ],
   "source": [
    "df_sentiment"
   ]
  },
  {
   "cell_type": "code",
   "execution_count": 25,
   "id": "fb65a51d",
   "metadata": {
    "execution": {
     "iopub.execute_input": "2024-01-01T05:36:57.379586Z",
     "iopub.status.busy": "2024-01-01T05:36:57.379249Z",
     "iopub.status.idle": "2024-01-01T05:37:01.470835Z",
     "shell.execute_reply": "2024-01-01T05:37:01.469685Z",
     "shell.execute_reply.started": "2024-01-01T05:36:57.379558Z"
    },
    "papermill": {
     "duration": 4.01667,
     "end_time": "2023-11-15T08:28:36.880266",
     "exception": false,
     "start_time": "2023-11-15T08:28:32.863596",
     "status": "completed"
    },
    "tags": []
   },
   "outputs": [],
   "source": [
    "from collections import defaultdict, Counter\n",
    "\n",
    "# Initialize dictionaries to store word counts for each sentiment\n",
    "positive_words = defaultdict(int)\n",
    "negative_words = defaultdict(int)\n",
    "neutral_words = defaultdict(int)\n",
    "\n",
    "# Iterate over the DataFrame and update the counts\n",
    "for _, row in df_sentiment.iterrows():\n",
    "    sentiment = row['Sentiment']\n",
    "    for word in row['Processed_Text']:\n",
    "        if sentiment == 'Positive':\n",
    "            positive_words[word] += 1\n",
    "        elif sentiment == 'Negative':\n",
    "            negative_words[word] += 1\n",
    "        elif sentiment == 'Neutral':\n",
    "            neutral_words[word] += 1\n",
    "\n",
    "# Now, find the most common words for each sentiment\n",
    "most_common_positive = Counter(positive_words).most_common(30)\n",
    "most_common_negative = Counter(negative_words).most_common(30)\n",
    "most_common_neutral = Counter(neutral_words).most_common(30)\n"
   ]
  },
  {
   "cell_type": "code",
   "execution_count": 26,
   "id": "39f6c574",
   "metadata": {
    "execution": {
     "iopub.execute_input": "2024-01-01T05:37:01.472727Z",
     "iopub.status.busy": "2024-01-01T05:37:01.472268Z",
     "iopub.status.idle": "2024-01-01T05:37:02.977304Z",
     "shell.execute_reply": "2024-01-01T05:37:02.976154Z",
     "shell.execute_reply.started": "2024-01-01T05:37:01.472685Z"
    },
    "papermill": {
     "duration": 1.436574,
     "end_time": "2023-11-15T08:28:38.351183",
     "exception": false,
     "start_time": "2023-11-15T08:28:36.914609",
     "status": "completed"
    },
    "tags": []
   },
   "outputs": [
    {
     "data": {
      "image/png": "[encoded data removed]",
      "text/plain": [
       "<Figure size 1500x500 with 3 Axes>"
      ]
     },
     "metadata": {},
     "output_type": "display_data"
    }
   ],
   "source": [
    "import matplotlib.pyplot as plt\n",
    "\n",
    "# Function to plot a horizontal bar chart for sentiment words\n",
    "def plot_most_common_words(most_common, title, ax, color):\n",
    "    words, counts = zip(*most_common)\n",
    "    ax.barh(words, counts, color=color)\n",
    "    ax.set_title(title)\n",
    "\n",
    "fig, axes = plt.subplots(1, 3, figsize=(15, 5))\n",
    "\n",
    "# Plotting each sentiment\n",
    "plot_most_common_words(most_common_positive, 'Most Common Positive Words', axes[0], 'green')\n",
    "plot_most_common_words(most_common_negative, 'Most Common Negative Words', axes[1], 'red')\n",
    "plot_most_common_words(most_common_neutral, 'Most Common Neutral Words', axes[2], 'blue')\n",
    "\n",
    "plt.tight_layout()\n",
    "plt.show()\n"
   ]
  },
  {
   "cell_type": "code",
   "execution_count": 27,
   "id": "c5884f24",
   "metadata": {
    "execution": {
     "iopub.execute_input": "2024-01-01T05:37:02.979862Z",
     "iopub.status.busy": "2024-01-01T05:37:02.979044Z",
     "iopub.status.idle": "2024-01-01T05:37:02.987280Z",
     "shell.execute_reply": "2024-01-01T05:37:02.986157Z",
     "shell.execute_reply.started": "2024-01-01T05:37:02.979818Z"
    },
    "papermill": {
     "duration": 0.043199,
     "end_time": "2023-11-15T08:28:38.429432",
     "exception": false,
     "start_time": "2023-11-15T08:28:38.386233",
     "status": "completed"
    },
    "tags": []
   },
   "outputs": [
    {
     "name": "stdout",
     "output_type": "stream",
     "text": [
      "Two Most Common Positive Words: [('I', 9159), ('game', 3079)]\n",
      "Two Most Common Negative Words: [('I', 8336), ('game', 4460)]\n",
      "Two Most Common Neutral Words: [('I', 4650), ('johnson', 1804)]\n"
     ]
    }
   ],
   "source": [
    "# Printing the two most common words for each sentiment\n",
    "print(\"Two Most Common Positive Words:\", most_common_positive[:2])\n",
    "print(\"Two Most Common Negative Words:\", most_common_negative[:2])\n",
    "print(\"Two Most Common Neutral Words:\", most_common_neutral[:2])\n"
   ]
  },
  {
   "cell_type": "markdown",
   "id": "6e383157",
   "metadata": {
    "papermill": {
     "duration": 0.034755,
     "end_time": "2023-11-15T08:28:38.498635",
     "exception": false,
     "start_time": "2023-11-15T08:28:38.463880",
     "status": "completed"
    },
    "tags": []
   },
   "source": [
    "# **4. Encoding and cleaning** <a class=\"anchor\" id=\"4\"></a>\n",
    "\n",
    "[Table of Contents](#0.1)\n",
    "\n",
    "\n",
    "For the encoding of GameNames and Sentiment we will use label encoding. \n",
    "It will label each Category with a number, we have relativly small amount of categories and mostly the distribution between them is even\n",
    "\n",
    "For the sentences we will encode each word using TF-IDF (term frequency - invers document frequency). It  evaluates how important a word is to a document in a collection of documents. It is calculated in two parts. Part one find the number of times a word apperas in a document divided by total number of term in the document. Then the second part calculates the total number of documents in all documents divided by the number of documents with that term. Then all is multiplied together. It is usefull in large dataset as it captures the most significant in each document. \n",
    "\n",
    "At the end, we just remove the not needed columns."
   ]
  },
  {
   "cell_type": "code",
   "execution_count": 28,
   "id": "50f4272d",
   "metadata": {
    "execution": {
     "iopub.execute_input": "2024-01-01T05:37:02.996986Z",
     "iopub.status.busy": "2024-01-01T05:37:02.996596Z",
     "iopub.status.idle": "2024-01-01T05:37:03.004950Z",
     "shell.execute_reply": "2024-01-01T05:37:03.003845Z",
     "shell.execute_reply.started": "2024-01-01T05:37:02.996955Z"
    },
    "papermill": {
     "duration": 0.042998,
     "end_time": "2023-11-15T08:28:38.575702",
     "exception": false,
     "start_time": "2023-11-15T08:28:38.532704",
     "status": "completed"
    },
    "tags": []
   },
   "outputs": [
    {
     "data": {
      "text/plain": [
       "(49038, 5)"
      ]
     },
     "execution_count": 28,
     "metadata": {},
     "output_type": "execute_result"
    }
   ],
   "source": [
    "df_sentiment.shape"
   ]
  },
  {
   "cell_type": "code",
   "execution_count": 29,
   "id": "20ee110e",
   "metadata": {
    "execution": {
     "iopub.execute_input": "2024-01-01T05:37:03.007464Z",
     "iopub.status.busy": "2024-01-01T05:37:03.006754Z",
     "iopub.status.idle": "2024-01-01T05:37:03.030897Z",
     "shell.execute_reply": "2024-01-01T05:37:03.029704Z",
     "shell.execute_reply.started": "2024-01-01T05:37:03.007422Z"
    },
    "papermill": {
     "duration": 0.058403,
     "end_time": "2023-11-15T08:28:38.668304",
     "exception": false,
     "start_time": "2023-11-15T08:28:38.609901",
     "status": "completed"
    },
    "tags": []
   },
   "outputs": [
    {
     "name": "stdout",
     "output_type": "stream",
     "text": [
      "Game Name to Number Mapping:\n",
      "{'ApexLegends': 0, 'AssassinsCreed': 1, 'Battlefield': 2, 'Borderlands': 3, 'CS-GO': 4, 'CallOfDuty': 5, 'CallOfDutyBlackopsColdWar': 6, 'Cyberpunk2077': 7, 'Dota2': 8, 'FIFA': 9, 'Fortnite': 10, 'GrandTheftAuto(GTA)': 11, 'Hearthstone': 12, 'HomeDepot': 13, 'LeagueOfLegends': 14, 'MaddenNFL': 15, 'NBA2K': 16, 'Overwatch': 17, 'PlayStation5(PS5)': 18, 'PlayerUnknownsBattlegrounds(PUBG)': 19, 'RedDeadRedemption(RDR)': 20, 'TomClancysGhostRecon': 21, 'TomClancysRainbowSix': 22, 'WorldOfCraft': 23, 'Xbox(Xseries)': 24, 'johnson&johnson': 25}\n"
     ]
    }
   ],
   "source": [
    "\n",
    "# Initialize the label encoder\n",
    "game_name_encoder = LabelEncoder()\n",
    "\n",
    "# Fit and transform the GameName column\n",
    "df_sentiment['GameName_Encoded'] = game_name_encoder.fit_transform(df_sentiment['GameName'])\n",
    "\n",
    "# Get the mapping of game names to encoded numbers\n",
    "game_name_mapping = dict(zip(game_name_encoder.classes_, game_name_encoder.transform(game_name_encoder.classes_)))\n",
    "\n",
    "print(\"Game Name to Number Mapping:\")\n",
    "print(game_name_mapping)"
   ]
  },
  {
   "cell_type": "code",
   "execution_count": 30,
   "id": "eaed7513",
   "metadata": {
    "execution": {
     "iopub.execute_input": "2024-01-01T05:37:03.032890Z",
     "iopub.status.busy": "2024-01-01T05:37:03.032523Z",
     "iopub.status.idle": "2024-01-01T05:37:03.056794Z",
     "shell.execute_reply": "2024-01-01T05:37:03.055377Z",
     "shell.execute_reply.started": "2024-01-01T05:37:03.032860Z"
    },
    "papermill": {
     "duration": 0.058682,
     "end_time": "2023-11-15T08:28:38.761707",
     "exception": false,
     "start_time": "2023-11-15T08:28:38.703025",
     "status": "completed"
    },
    "tags": []
   },
   "outputs": [
    {
     "name": "stdout",
     "output_type": "stream",
     "text": [
      "Sentiment to Number Mapping:\n",
      "{'Negative': 0, 'Neutral': 1, 'Positive': 2}\n"
     ]
    }
   ],
   "source": [
    "# Initialize another label encoder for Sentiment\n",
    "sentiment_encoder = LabelEncoder()\n",
    "\n",
    "# Fit and transform the Sentiment column\n",
    "df_sentiment['Sentiment_Encoded'] = sentiment_encoder.fit_transform(df_sentiment['Sentiment'])\n",
    "\n",
    "# Get the mapping of sentiment labels to encoded numbers\n",
    "label_mapping = dict(zip(sentiment_encoder.classes_, sentiment_encoder.transform(sentiment_encoder.classes_)))\n",
    "\n",
    "print(\"Sentiment to Number Mapping:\")\n",
    "print(label_mapping)"
   ]
  },
  {
   "cell_type": "code",
   "execution_count": 31,
   "id": "0310bd63",
   "metadata": {
    "execution": {
     "iopub.execute_input": "2024-01-01T05:37:03.059408Z",
     "iopub.status.busy": "2024-01-01T05:37:03.058768Z",
     "iopub.status.idle": "2024-01-01T05:37:04.045628Z",
     "shell.execute_reply": "2024-01-01T05:37:04.044484Z",
     "shell.execute_reply.started": "2024-01-01T05:37:03.059232Z"
    },
    "papermill": {
     "duration": 0.959525,
     "end_time": "2023-11-15T08:28:39.756396",
     "exception": false,
     "start_time": "2023-11-15T08:28:38.796871",
     "status": "completed"
    },
    "tags": []
   },
   "outputs": [],
   "source": [
    "from sklearn.feature_extraction.text import TfidfVectorizer\n",
    "\n",
    "# Join the list of words in Processed_Text into a single string per row\n",
    "df_sentiment['Processed_Text_Joined'] = df_sentiment['Processed_Text'].apply(lambda x: ' '.join(x))\n",
    "\n",
    "# Initialize the TF-IDF Vectorizer\n",
    "tfidf_vectorizer = TfidfVectorizer()\n",
    "\n",
    "# Fit and transform the Processed_Text_Joined column\n",
    "tfidf_matrix = tfidf_vectorizer.fit_transform(df_sentiment['Processed_Text_Joined'])\n"
   ]
  },
  {
   "cell_type": "markdown",
   "id": "1c736894",
   "metadata": {
    "papermill": {
     "duration": 0.035837,
     "end_time": "2023-11-15T08:28:39.828628",
     "exception": false,
     "start_time": "2023-11-15T08:28:39.792791",
     "status": "completed"
    },
    "tags": []
   },
   "source": [
    "Clean the columns that are not needede"
   ]
  },
  {
   "cell_type": "code",
   "execution_count": 32,
   "id": "78666c15",
   "metadata": {
    "execution": {
     "iopub.execute_input": "2024-01-01T05:37:04.047460Z",
     "iopub.status.busy": "2024-01-01T05:37:04.047071Z",
     "iopub.status.idle": "2024-01-01T05:37:04.072236Z",
     "shell.execute_reply": "2024-01-01T05:37:04.071049Z",
     "shell.execute_reply.started": "2024-01-01T05:37:04.047414Z"
    },
    "papermill": {
     "duration": 0.061243,
     "end_time": "2023-11-15T08:28:39.925216",
     "exception": false,
     "start_time": "2023-11-15T08:28:39.863973",
     "status": "completed"
    },
    "tags": []
   },
   "outputs": [
    {
     "data": {
      "text/html": [
       "<div>\n",
       "<style scoped>\n",
       "    .dataframe tbody tr th:only-of-type {\n",
       "        vertical-align: middle;\n",
       "    }\n",
       "\n",
       "    .dataframe tbody tr th {\n",
       "        vertical-align: top;\n",
       "    }\n",
       "\n",
       "    .dataframe thead th {\n",
       "        text-align: right;\n",
       "    }\n",
       "</style>\n",
       "<table border=\"1\" class=\"dataframe\">\n",
       "  <thead>\n",
       "    <tr style=\"text-align: right;\">\n",
       "      <th></th>\n",
       "      <th>EntryID</th>\n",
       "      <th>GameName</th>\n",
       "      <th>Sentiment</th>\n",
       "      <th>Text</th>\n",
       "      <th>Processed_Text</th>\n",
       "      <th>GameName_Encoded</th>\n",
       "      <th>Sentiment_Encoded</th>\n",
       "      <th>Processed_Text_Joined</th>\n",
       "    </tr>\n",
       "  </thead>\n",
       "  <tbody>\n",
       "    <tr>\n",
       "      <th>0</th>\n",
       "      <td>2401</td>\n",
       "      <td>Borderlands</td>\n",
       "      <td>Positive</td>\n",
       "      <td>I am coming to the borders and I will kill you all,</td>\n",
       "      <td>[I, come, border, I, kill]</td>\n",
       "      <td>3</td>\n",
       "      <td>2</td>\n",
       "      <td>I come border I kill</td>\n",
       "    </tr>\n",
       "    <tr>\n",
       "      <th>1</th>\n",
       "      <td>2401</td>\n",
       "      <td>Borderlands</td>\n",
       "      <td>Positive</td>\n",
       "      <td>im getting on borderlands and i will kill you all,</td>\n",
       "      <td>[im, get, borderland, kill]</td>\n",
       "      <td>3</td>\n",
       "      <td>2</td>\n",
       "      <td>im get borderland kill</td>\n",
       "    </tr>\n",
       "    <tr>\n",
       "      <th>2</th>\n",
       "      <td>2401</td>\n",
       "      <td>Borderlands</td>\n",
       "      <td>Positive</td>\n",
       "      <td>im coming on borderlands and i will murder you all,</td>\n",
       "      <td>[im, come, borderland, murder]</td>\n",
       "      <td>3</td>\n",
       "      <td>2</td>\n",
       "      <td>im come borderland murder</td>\n",
       "    </tr>\n",
       "    <tr>\n",
       "      <th>3</th>\n",
       "      <td>2401</td>\n",
       "      <td>Borderlands</td>\n",
       "      <td>Positive</td>\n",
       "      <td>im getting on borderlands 2 and i will murder you me all,</td>\n",
       "      <td>[im, get, borderland, murder]</td>\n",
       "      <td>3</td>\n",
       "      <td>2</td>\n",
       "      <td>im get borderland murder</td>\n",
       "    </tr>\n",
       "    <tr>\n",
       "      <th>4</th>\n",
       "      <td>2401</td>\n",
       "      <td>Borderlands</td>\n",
       "      <td>Positive</td>\n",
       "      <td>im getting into borderlands and i can murder you all,</td>\n",
       "      <td>[im, get, borderland, murder]</td>\n",
       "      <td>3</td>\n",
       "      <td>2</td>\n",
       "      <td>im get borderland murder</td>\n",
       "    </tr>\n",
       "    <tr>\n",
       "      <th>...</th>\n",
       "      <td>...</td>\n",
       "      <td>...</td>\n",
       "      <td>...</td>\n",
       "      <td>...</td>\n",
       "      <td>...</td>\n",
       "      <td>...</td>\n",
       "      <td>...</td>\n",
       "      <td>...</td>\n",
       "    </tr>\n",
       "    <tr>\n",
       "      <th>72378</th>\n",
       "      <td>11200</td>\n",
       "      <td>TomClancysGhostRecon</td>\n",
       "      <td>Neutral</td>\n",
       "      <td>Tom Clancy's Ghost Recon: Choke Point ift.tt / 36QWteH</td>\n",
       "      <td>[tom, clanci, ghost, recon, choke, point]</td>\n",
       "      <td>21</td>\n",
       "      <td>1</td>\n",
       "      <td>tom clanci ghost recon choke point</td>\n",
       "    </tr>\n",
       "    <tr>\n",
       "      <th>72379</th>\n",
       "      <td>11200</td>\n",
       "      <td>TomClancysGhostRecon</td>\n",
       "      <td>Neutral</td>\n",
       "      <td>Tom Clancy's Ghost Recon: Choke Point i.tt / 36QWteH</td>\n",
       "      <td>[tom, clanci, ghost, recon, choke, point]</td>\n",
       "      <td>21</td>\n",
       "      <td>1</td>\n",
       "      <td>tom clanci ghost recon choke point</td>\n",
       "    </tr>\n",
       "    <tr>\n",
       "      <th>72380</th>\n",
       "      <td>11200</td>\n",
       "      <td>TomClancysGhostRecon</td>\n",
       "      <td>Neutral</td>\n",
       "      <td>Tom lin Ghost Recon: Choke Point ift.tt/36QWteH</td>\n",
       "      <td>[tom, lin, ghost, recon, choke, point]</td>\n",
       "      <td>21</td>\n",
       "      <td>1</td>\n",
       "      <td>tom lin ghost recon choke point</td>\n",
       "    </tr>\n",
       "    <tr>\n",
       "      <th>72381</th>\n",
       "      <td>11200</td>\n",
       "      <td>TomClancysGhostRecon</td>\n",
       "      <td>Neutral</td>\n",
       "      <td>In Tom Clancy'A s The Ghost House Recon : Choke Point ift. tt / 36QWteH</td>\n",
       "      <td>[In, tom, the, ghost, hous, recon, choke, point, ift, tt]</td>\n",
       "      <td>21</td>\n",
       "      <td>1</td>\n",
       "      <td>In tom the ghost hous recon choke point ift tt</td>\n",
       "    </tr>\n",
       "    <tr>\n",
       "      <th>72382</th>\n",
       "      <td>11200</td>\n",
       "      <td>TomClancysGhostRecon</td>\n",
       "      <td>Neutral</td>\n",
       "      <td>Jack Clancy's Ghost Recon: a bark ift.tt/36QWteH</td>\n",
       "      <td>[jack, clanci, ghost, recon, bark]</td>\n",
       "      <td>21</td>\n",
       "      <td>1</td>\n",
       "      <td>jack clanci ghost recon bark</td>\n",
       "    </tr>\n",
       "  </tbody>\n",
       "</table>\n",
       "<p>49038 rows × 8 columns</p>\n",
       "</div>"
      ],
      "text/plain": [
       "       EntryID              GameName Sentiment  \\\n",
       "0         2401           Borderlands  Positive   \n",
       "1         2401           Borderlands  Positive   \n",
       "2         2401           Borderlands  Positive   \n",
       "3         2401           Borderlands  Positive   \n",
       "4         2401           Borderlands  Positive   \n",
       "...        ...                   ...       ...   \n",
       "72378    11200  TomClancysGhostRecon   Neutral   \n",
       "72379    11200  TomClancysGhostRecon   Neutral   \n",
       "72380    11200  TomClancysGhostRecon   Neutral   \n",
       "72381    11200  TomClancysGhostRecon   Neutral   \n",
       "72382    11200  TomClancysGhostRecon   Neutral   \n",
       "\n",
       "                                                                          Text  \\\n",
       "0                          I am coming to the borders and I will kill you all,   \n",
       "1                           im getting on borderlands and i will kill you all,   \n",
       "2                          im coming on borderlands and i will murder you all,   \n",
       "3                    im getting on borderlands 2 and i will murder you me all,   \n",
       "4                        im getting into borderlands and i can murder you all,   \n",
       "...                                                                        ...   \n",
       "72378                   Tom Clancy's Ghost Recon: Choke Point ift.tt / 36QWteH   \n",
       "72379                     Tom Clancy's Ghost Recon: Choke Point i.tt / 36QWteH   \n",
       "72380                          Tom lin Ghost Recon: Choke Point ift.tt/36QWteH   \n",
       "72381  In Tom Clancy'A s The Ghost House Recon : Choke Point ift. tt / 36QWteH   \n",
       "72382                         Jack Clancy's Ghost Recon: a bark ift.tt/36QWteH   \n",
       "\n",
       "                                                  Processed_Text  \\\n",
       "0                                     [I, come, border, I, kill]   \n",
       "1                                    [im, get, borderland, kill]   \n",
       "2                                 [im, come, borderland, murder]   \n",
       "3                                  [im, get, borderland, murder]   \n",
       "4                                  [im, get, borderland, murder]   \n",
       "...                                                          ...   \n",
       "72378                  [tom, clanci, ghost, recon, choke, point]   \n",
       "72379                  [tom, clanci, ghost, recon, choke, point]   \n",
       "72380                     [tom, lin, ghost, recon, choke, point]   \n",
       "72381  [In, tom, the, ghost, hous, recon, choke, point, ift, tt]   \n",
       "72382                         [jack, clanci, ghost, recon, bark]   \n",
       "\n",
       "       GameName_Encoded  Sentiment_Encoded  \\\n",
       "0                     3                  2   \n",
       "1                     3                  2   \n",
       "2                     3                  2   \n",
       "3                     3                  2   \n",
       "4                     3                  2   \n",
       "...                 ...                ...   \n",
       "72378                21                  1   \n",
       "72379                21                  1   \n",
       "72380                21                  1   \n",
       "72381                21                  1   \n",
       "72382                21                  1   \n",
       "\n",
       "                                Processed_Text_Joined  \n",
       "0                                I come border I kill  \n",
       "1                              im get borderland kill  \n",
       "2                           im come borderland murder  \n",
       "3                            im get borderland murder  \n",
       "4                            im get borderland murder  \n",
       "...                                               ...  \n",
       "72378              tom clanci ghost recon choke point  \n",
       "72379              tom clanci ghost recon choke point  \n",
       "72380                 tom lin ghost recon choke point  \n",
       "72381  In tom the ghost hous recon choke point ift tt  \n",
       "72382                    jack clanci ghost recon bark  \n",
       "\n",
       "[49038 rows x 8 columns]"
      ]
     },
     "execution_count": 32,
     "metadata": {},
     "output_type": "execute_result"
    }
   ],
   "source": [
    "df_sentiment"
   ]
  },
  {
   "cell_type": "code",
   "execution_count": 33,
   "id": "c4175fc4",
   "metadata": {
    "execution": {
     "iopub.execute_input": "2024-01-01T05:37:04.074272Z",
     "iopub.status.busy": "2024-01-01T05:37:04.073771Z",
     "iopub.status.idle": "2024-01-01T05:37:04.085014Z",
     "shell.execute_reply": "2024-01-01T05:37:04.083877Z",
     "shell.execute_reply.started": "2024-01-01T05:37:04.074218Z"
    },
    "papermill": {
     "duration": 0.046695,
     "end_time": "2023-11-15T08:28:40.008656",
     "exception": false,
     "start_time": "2023-11-15T08:28:39.961961",
     "status": "completed"
    },
    "tags": []
   },
   "outputs": [],
   "source": [
    "df_sentiment = df_sentiment.drop(columns=['EntryID', 'GameName', 'Sentiment', 'Text', 'Processed_Text', 'Processed_Text_Joined'])\n"
   ]
  },
  {
   "cell_type": "code",
   "execution_count": 34,
   "id": "5afb534f",
   "metadata": {
    "execution": {
     "iopub.execute_input": "2024-01-01T05:37:04.087364Z",
     "iopub.status.busy": "2024-01-01T05:37:04.086816Z",
     "iopub.status.idle": "2024-01-01T05:37:04.101189Z",
     "shell.execute_reply": "2024-01-01T05:37:04.099899Z",
     "shell.execute_reply.started": "2024-01-01T05:37:04.087331Z"
    },
    "papermill": {
     "duration": 0.048224,
     "end_time": "2023-11-15T08:28:40.092413",
     "exception": false,
     "start_time": "2023-11-15T08:28:40.044189",
     "status": "completed"
    },
    "tags": []
   },
   "outputs": [
    {
     "data": {
      "text/html": [
       "<div>\n",
       "<style scoped>\n",
       "    .dataframe tbody tr th:only-of-type {\n",
       "        vertical-align: middle;\n",
       "    }\n",
       "\n",
       "    .dataframe tbody tr th {\n",
       "        vertical-align: top;\n",
       "    }\n",
       "\n",
       "    .dataframe thead th {\n",
       "        text-align: right;\n",
       "    }\n",
       "</style>\n",
       "<table border=\"1\" class=\"dataframe\">\n",
       "  <thead>\n",
       "    <tr style=\"text-align: right;\">\n",
       "      <th></th>\n",
       "      <th>GameName_Encoded</th>\n",
       "      <th>Sentiment_Encoded</th>\n",
       "    </tr>\n",
       "  </thead>\n",
       "  <tbody>\n",
       "    <tr>\n",
       "      <th>0</th>\n",
       "      <td>3</td>\n",
       "      <td>2</td>\n",
       "    </tr>\n",
       "    <tr>\n",
       "      <th>1</th>\n",
       "      <td>3</td>\n",
       "      <td>2</td>\n",
       "    </tr>\n",
       "    <tr>\n",
       "      <th>2</th>\n",
       "      <td>3</td>\n",
       "      <td>2</td>\n",
       "    </tr>\n",
       "    <tr>\n",
       "      <th>3</th>\n",
       "      <td>3</td>\n",
       "      <td>2</td>\n",
       "    </tr>\n",
       "    <tr>\n",
       "      <th>4</th>\n",
       "      <td>3</td>\n",
       "      <td>2</td>\n",
       "    </tr>\n",
       "  </tbody>\n",
       "</table>\n",
       "</div>"
      ],
      "text/plain": [
       "   GameName_Encoded  Sentiment_Encoded\n",
       "0                 3                  2\n",
       "1                 3                  2\n",
       "2                 3                  2\n",
       "3                 3                  2\n",
       "4                 3                  2"
      ]
     },
     "execution_count": 34,
     "metadata": {},
     "output_type": "execute_result"
    }
   ],
   "source": [
    "df_sentiment.head()"
   ]
  },
  {
   "cell_type": "markdown",
   "id": "23311d04",
   "metadata": {
    "papermill": {
     "duration": 0.037004,
     "end_time": "2023-11-15T08:28:40.166411",
     "exception": false,
     "start_time": "2023-11-15T08:28:40.129407",
     "status": "completed"
    },
    "tags": []
   },
   "source": [
    "# **5. Naive Bayes model** <a class=\"anchor\" id=\"5\"></a>\n",
    "\n",
    "[Table of Contents](#0.1)\n",
    "\n",
    "\n",
    "Multinomial Naive Bayes is a variant of the Naive Bayes algorithm, which is a simple yet effective probabilistic machine learning model often used for classification tasks. It's based on Bayes' Theorem which is assuming independence between predictors."
   ]
  },
  {
   "cell_type": "code",
   "execution_count": 35,
   "id": "5d50a9e2",
   "metadata": {
    "execution": {
     "iopub.execute_input": "2024-01-01T05:37:04.102635Z",
     "iopub.status.busy": "2024-01-01T05:37:04.102286Z",
     "iopub.status.idle": "2024-01-01T05:37:04.180881Z",
     "shell.execute_reply": "2024-01-01T05:37:04.179444Z",
     "shell.execute_reply.started": "2024-01-01T05:37:04.102605Z"
    },
    "papermill": {
     "duration": 0.108386,
     "end_time": "2023-11-15T08:28:40.311503",
     "exception": false,
     "start_time": "2023-11-15T08:28:40.203117",
     "status": "completed"
    },
    "tags": []
   },
   "outputs": [],
   "source": [
    "from scipy.sparse import hstack\n",
    "from sklearn.model_selection import train_test_split\n",
    "from sklearn.naive_bayes import MultinomialNB\n",
    "from sklearn.metrics import classification_report, accuracy_score\n",
    "from sklearn.metrics import roc_curve, auc, roc_auc_score\n",
    "from sklearn.preprocessing import label_binarize\n",
    "import matplotlib.pyplot as plt\n",
    "from itertools import cycle\n",
    "\n",
    "\n",
    "# Combine the TF-IDF features with the encoded GameName and Sentiment\n",
    "X = hstack((tfidf_matrix, df_sentiment[['GameName_Encoded', 'Sentiment_Encoded']].values))\n",
    "y = df_sentiment['Sentiment_Encoded']  # assuming you want to predict Sentiment\n",
    "\n",
    "# Split the data into training and testing sets\n",
    "X_train, X_test, y_train, y_test = train_test_split(X, y, test_size=0.3, random_state=42)\n",
    "\n",
    "# Initialize the Multinomial Naive Bayes classifier\n",
    "nb_classifier = MultinomialNB()\n",
    "\n",
    "# Train the classifier\n",
    "nb_classifier.fit(X_train, y_train)\n",
    "\n",
    "# Make predictions on the test set\n",
    "predictions = nb_classifier.predict(X_test)\n"
   ]
  },
  {
   "cell_type": "markdown",
   "id": "4df86a68",
   "metadata": {
    "papermill": {
     "duration": 0.035376,
     "end_time": "2023-11-15T08:28:40.383180",
     "exception": false,
     "start_time": "2023-11-15T08:28:40.347804",
     "status": "completed"
    },
    "tags": []
   },
   "source": [
    "A good practice would also be to create a validation set where we can fine tune or model. \n",
    "\n",
    "example:\n",
    "\n",
    "\n",
    "- First split: Splitting into training and remaining data (validation + test):\n",
    "\n",
    "    X_train, X_remaining, y_train, y_remaining = train_test_split(X, y, test_size=0.4, random_state=42)\n",
    "\n",
    "- Second split: Splitting the remaining data into validation and test sets\n",
    "\n",
    "    X_val, X_test, y_val, y_test = train_test_split(X_remaining, y_remaining, test_size=0.5, random_state=42)"
   ]
  },
  {
   "cell_type": "markdown",
   "id": "505ab490",
   "metadata": {
    "papermill": {
     "duration": 0.035895,
     "end_time": "2023-11-15T08:28:40.454900",
     "exception": false,
     "start_time": "2023-11-15T08:28:40.419005",
     "status": "completed"
    },
    "tags": []
   },
   "source": [
    "# **6. Results** <a class=\"anchor\" id=\"6\"></a>\n",
    "\n",
    "[Table of Contents](#0.1)"
   ]
  },
  {
   "cell_type": "markdown",
   "id": "4bc552a3",
   "metadata": {
    "papermill": {
     "duration": 0.035946,
     "end_time": "2023-11-15T08:28:40.527176",
     "exception": false,
     "start_time": "2023-11-15T08:28:40.491230",
     "status": "completed"
    },
    "tags": []
   },
   "source": [
    "### Accuracy score"
   ]
  },
  {
   "cell_type": "code",
   "execution_count": 36,
   "id": "261350e5",
   "metadata": {
    "execution": {
     "iopub.execute_input": "2024-01-01T05:37:04.183370Z",
     "iopub.status.busy": "2024-01-01T05:37:04.182617Z",
     "iopub.status.idle": "2024-01-01T05:37:04.193747Z",
     "shell.execute_reply": "2024-01-01T05:37:04.192211Z",
     "shell.execute_reply.started": "2024-01-01T05:37:04.183325Z"
    },
    "papermill": {
     "duration": 0.04751,
     "end_time": "2023-11-15T08:28:40.611412",
     "exception": false,
     "start_time": "2023-11-15T08:28:40.563902",
     "status": "completed"
    },
    "tags": []
   },
   "outputs": [
    {
     "name": "stdout",
     "output_type": "stream",
     "text": [
      "Model accuracy score: 0.8982\n"
     ]
    }
   ],
   "source": [
    "\n",
    "print('Model accuracy score: {0:0.4f}'. format(accuracy_score(y_test, predictions)))"
   ]
  },
  {
   "cell_type": "markdown",
   "id": "e3231b51",
   "metadata": {
    "papermill": {
     "duration": 0.035914,
     "end_time": "2023-11-15T08:28:40.683524",
     "exception": false,
     "start_time": "2023-11-15T08:28:40.647610",
     "status": "completed"
    },
    "tags": []
   },
   "source": [
    "Accuracy score measures the proportion of total correct predictions. Callculated by number of correct prediction divided by total number of predictions.\n",
    "\n",
    "Accuracy = TP + TN / All predictions\n",
    "\n",
    "\n",
    "Also it does not penalize for false negatives and false positive."
   ]
  },
  {
   "cell_type": "markdown",
   "id": "c07ce861",
   "metadata": {
    "papermill": {
     "duration": 0.035889,
     "end_time": "2023-11-15T08:28:40.755347",
     "exception": false,
     "start_time": "2023-11-15T08:28:40.719458",
     "status": "completed"
    },
    "tags": []
   },
   "source": [
    "### Compare the train-set and test-set accuracy\n",
    "\n",
    "\n",
    "Now, I will compare the train-set and test-set accuracy to check for overfitting. "
   ]
  },
  {
   "cell_type": "code",
   "execution_count": 37,
   "id": "606bb44e",
   "metadata": {
    "execution": {
     "iopub.execute_input": "2024-01-01T05:37:04.195494Z",
     "iopub.status.busy": "2024-01-01T05:37:04.195131Z",
     "iopub.status.idle": "2024-01-01T05:37:04.212663Z",
     "shell.execute_reply": "2024-01-01T05:37:04.211178Z",
     "shell.execute_reply.started": "2024-01-01T05:37:04.195464Z"
    },
    "papermill": {
     "duration": 0.054778,
     "end_time": "2023-11-15T08:28:40.846447",
     "exception": false,
     "start_time": "2023-11-15T08:28:40.791669",
     "status": "completed"
    },
    "tags": []
   },
   "outputs": [
    {
     "name": "stdout",
     "output_type": "stream",
     "text": [
      "Test-set accuracy score: 0.8982\n",
      "Training-set accuracy score: 0.9209\n"
     ]
    }
   ],
   "source": [
    "\n",
    "\n",
    "# Evaluate model accuracy on the test set\n",
    "print('Test-set accuracy score: {0:0.4f}'.format(accuracy_score(y_test, predictions)))\n",
    "\n",
    "# Make predictions on the training set\n",
    "y_pred_train = nb_classifier.predict(X_train)\n",
    "\n",
    "# Evaluate model accuracy on the training set\n",
    "print('Training-set accuracy score: {0:0.4f}'.format(accuracy_score(y_train, y_pred_train)))"
   ]
  },
  {
   "cell_type": "markdown",
   "id": "ee8cc3bc",
   "metadata": {
    "papermill": {
     "duration": 0.036529,
     "end_time": "2023-11-15T08:28:40.919664",
     "exception": false,
     "start_time": "2023-11-15T08:28:40.883135",
     "status": "completed"
    },
    "tags": []
   },
   "source": [
    "The training-set accuracy score is 0.9209 while the test-set accuracy to be 0.8982. There is a small gap between training and test accuracy. This suggest that the model is generalizing well to unseen data and tere is no sign of overfitting\n"
   ]
  },
  {
   "cell_type": "markdown",
   "id": "1bceece3",
   "metadata": {
    "papermill": {
     "duration": 0.035925,
     "end_time": "2023-11-15T08:28:40.991511",
     "exception": false,
     "start_time": "2023-11-15T08:28:40.955586",
     "status": "completed"
    },
    "tags": []
   },
   "source": [
    "### Compare model accuracy with null accuracy\n",
    "\n",
    "\n",
    "So, the model accuracy is 0.8083. But, we cannot say that our model is very good based on the above accuracy. We must compare it with the **null accuracy**. Null accuracy is the accuracy that could be achieved by always predicting the most frequent class.\n",
    "\n",
    "So, we should first check the class distribution in the test set. \n"
   ]
  },
  {
   "cell_type": "code",
   "execution_count": 38,
   "id": "57be4291",
   "metadata": {
    "execution": {
     "iopub.execute_input": "2024-01-01T05:37:04.214624Z",
     "iopub.status.busy": "2024-01-01T05:37:04.214137Z",
     "iopub.status.idle": "2024-01-01T05:37:04.224554Z",
     "shell.execute_reply": "2024-01-01T05:37:04.223199Z",
     "shell.execute_reply.started": "2024-01-01T05:37:04.214587Z"
    },
    "papermill": {
     "duration": 0.047805,
     "end_time": "2023-11-15T08:28:41.076389",
     "exception": false,
     "start_time": "2023-11-15T08:28:41.028584",
     "status": "completed"
    },
    "tags": []
   },
   "outputs": [
    {
     "data": {
      "text/plain": [
       "Sentiment_Encoded\n",
       "0    5450\n",
       "2    5293\n",
       "1    3969\n",
       "Name: count, dtype: int64"
      ]
     },
     "execution_count": 38,
     "metadata": {},
     "output_type": "execute_result"
    }
   ],
   "source": [
    "# check class distribution in test set\n",
    "\n",
    "y_test.value_counts()\n"
   ]
  },
  {
   "cell_type": "markdown",
   "id": "7b3d934c",
   "metadata": {
    "papermill": {
     "duration": 0.036806,
     "end_time": "2023-11-15T08:28:41.150002",
     "exception": false,
     "start_time": "2023-11-15T08:28:41.113196",
     "status": "completed"
    },
    "tags": []
   },
   "source": [
    "We can see that the occurences of most frequent class is 5450. So, we can calculate null accuracy by dividing 5450 by total number of occurences.\n"
   ]
  },
  {
   "cell_type": "code",
   "execution_count": 39,
   "id": "bc6c44de",
   "metadata": {
    "execution": {
     "iopub.execute_input": "2024-01-01T05:37:04.227367Z",
     "iopub.status.busy": "2024-01-01T05:37:04.226587Z",
     "iopub.status.idle": "2024-01-01T05:37:04.236217Z",
     "shell.execute_reply": "2024-01-01T05:37:04.234889Z",
     "shell.execute_reply.started": "2024-01-01T05:37:04.227309Z"
    },
    "papermill": {
     "duration": 0.046227,
     "end_time": "2023-11-15T08:28:41.233275",
     "exception": false,
     "start_time": "2023-11-15T08:28:41.187048",
     "status": "completed"
    },
    "tags": []
   },
   "outputs": [
    {
     "name": "stdout",
     "output_type": "stream",
     "text": [
      "Null accuracy score: 0.3704\n"
     ]
    }
   ],
   "source": [
    "# check null accuracy score\n",
    "\n",
    "null_accuracy = (5450/(5450+5293+3969))\n",
    "\n",
    "print('Null accuracy score: {0:0.4f}'. format(null_accuracy))"
   ]
  },
  {
   "cell_type": "markdown",
   "id": "849ecf0c",
   "metadata": {
    "papermill": {
     "duration": 0.035846,
     "end_time": "2023-11-15T08:28:41.305271",
     "exception": false,
     "start_time": "2023-11-15T08:28:41.269425",
     "status": "completed"
    },
    "tags": []
   },
   "source": [
    "We can see that our model accuracy score is 0.89 but null accuracy score is 0.37. So, we can conclude that the model is learning something meaningful from the data. As 37% is the possiblity that the model predict the most frequent class by pure chance."
   ]
  },
  {
   "cell_type": "markdown",
   "id": "5bd8efda",
   "metadata": {
    "papermill": {
     "duration": 0.035993,
     "end_time": "2023-11-15T08:28:41.378430",
     "exception": false,
     "start_time": "2023-11-15T08:28:41.342437",
     "status": "completed"
    },
    "tags": []
   },
   "source": [
    "Now, based on the above analysis we can conclude that our classification model accuracy is very good. Our model is doing a very good job in terms of predicting the class labels.\n",
    "\n",
    "\n",
    "But, it does not give the underlying distribution of values. Also, it does not tell anything about the type of errors our classifer is making. It does not penalize tor false positives.\n",
    "\n",
    "\n",
    "We have another tool called `Confusion matrix`\n"
   ]
  },
  {
   "cell_type": "markdown",
   "id": "61f832c3",
   "metadata": {
    "papermill": {
     "duration": 0.035897,
     "end_time": "2023-11-15T08:28:41.450603",
     "exception": false,
     "start_time": "2023-11-15T08:28:41.414706",
     "status": "completed"
    },
    "tags": []
   },
   "source": [
    "# **7. Confusion matrix** <a class=\"anchor\" id=\"7\"></a>\n",
    "\n",
    "[Table of Contents](#0.1)\n",
    "\n",
    "A confusion matrix is a tool for summarizing the performance of a classification algorithm. A confusion matrix will give us a clear picture of classification model performance and the types of errors produced by the model. It gives us a summary of correct and incorrect predictions broken down by each category. The summary is represented in a tabular form.\n",
    "\n",
    "The confusion matrix shows TP0 + TP1 + TP2 = Total correct predictions and all other non-diagonal elements summed up = Total incorrect predictions.\n",
    "\n",
    "In this case, we have:\n",
    "\n",
    "- True Positives for Class 0 (Neutral) - TP0 (Actual Neutral and Predict Neutral)\n",
    "- True Positives for Class 1 (Negative) - TP1 (Actual Negative and Predict Negative)\n",
    "- True Positives for Class 2 (Positive) - TP2 (Actual Positive and Predict Positive)\n",
    "\n",
    "- False Positives for Class 0 (Predicted as Neutral but not Neutral) - Sum of non-diagonal elements in the first column (excluding TP0)\n",
    "- False Positives for Class 1 (Predicted as Negative but not Negative) - Sum of non-diagonal elements in the second column (excluding TP1)\n",
    "- False Positives for Class 2 (Predicted as Positive but not Positive) - Sum of non-diagonal elements\n"
   ]
  },
  {
   "cell_type": "code",
   "execution_count": 40,
   "id": "bf68c477",
   "metadata": {
    "execution": {
     "iopub.execute_input": "2024-01-01T05:37:04.238622Z",
     "iopub.status.busy": "2024-01-01T05:37:04.238204Z",
     "iopub.status.idle": "2024-01-01T05:37:04.259010Z",
     "shell.execute_reply": "2024-01-01T05:37:04.257505Z",
     "shell.execute_reply.started": "2024-01-01T05:37:04.238576Z"
    },
    "papermill": {
     "duration": 0.057178,
     "end_time": "2023-11-15T08:28:41.544294",
     "exception": false,
     "start_time": "2023-11-15T08:28:41.487116",
     "status": "completed"
    },
    "tags": []
   },
   "outputs": [
    {
     "name": "stdout",
     "output_type": "stream",
     "text": [
      "Confusion matrix\n",
      "\n",
      " [[5360   23   67]\n",
      " [   0 2737 1232]\n",
      " [   0  175 5118]]\n",
      "\n",
      "Metrics for Class 0 (Neutral):\n",
      "True Positives: 5360\n",
      "True Negatives: 9262\n",
      "False Positives: 90\n",
      "False Negatives: 0\n",
      "\n",
      "Metrics for Class 1 (Negative):\n",
      "True Positives: 2737\n",
      "True Negatives: 10545\n",
      "False Positives: 1232\n",
      "False Negatives: 198\n",
      "\n",
      "Metrics for Class 2 (Positive):\n",
      "True Positives: 5118\n",
      "True Negatives: 8120\n",
      "False Positives: 175\n",
      "False Negatives: 1299\n"
     ]
    }
   ],
   "source": [
    "# Create the confusion matrix\n",
    "cm = confusion_matrix(y_test, predictions)\n",
    "\n",
    "print('Confusion matrix\\n\\n', cm)\n",
    "\n",
    "# For multiclass, we have to consider each class separately.\n",
    "print('\\nMetrics for Class 0 (Neutral):')\n",
    "print('True Positives:', cm[0, 0])\n",
    "print('True Negatives:', cm[1, 1] + cm[1, 2] + cm[2, 1] + cm[2, 2])\n",
    "print('False Positives:', cm[0, 1] + cm[0, 2])\n",
    "print('False Negatives:', cm[1, 0] + cm[2, 0])\n",
    "\n",
    "print('\\nMetrics for Class 1 (Negative):')\n",
    "print('True Positives:', cm[1, 1])\n",
    "print('True Negatives:', cm[0, 0] + cm[0, 2] + cm[2, 0] + cm[2, 2])\n",
    "print('False Positives:', cm[1, 0] + cm[1, 2])\n",
    "print('False Negatives:', cm[0, 1] + cm[2, 1])\n",
    "\n",
    "print('\\nMetrics for Class 2 (Positive):')\n",
    "print('True Positives:', cm[2, 2])\n",
    "print('True Negatives:', cm[0, 0] + cm[0, 1] + cm[1, 0] + cm[1, 1])\n",
    "print('False Positives:', cm[2, 0] + cm[2, 1])\n",
    "print('False Negatives:', cm[0, 2] + cm[1, 2])"
   ]
  },
  {
   "cell_type": "code",
   "execution_count": 41,
   "id": "eb9019ec",
   "metadata": {
    "execution": {
     "iopub.execute_input": "2024-01-01T05:37:04.261227Z",
     "iopub.status.busy": "2024-01-01T05:37:04.260769Z",
     "iopub.status.idle": "2024-01-01T05:37:04.631186Z",
     "shell.execute_reply": "2024-01-01T05:37:04.630072Z",
     "shell.execute_reply.started": "2024-01-01T05:37:04.261191Z"
    },
    "papermill": {
     "duration": 0.38422,
     "end_time": "2023-11-15T08:28:41.965290",
     "exception": false,
     "start_time": "2023-11-15T08:28:41.581070",
     "status": "completed"
    },
    "tags": []
   },
   "outputs": [
    {
     "data": {
      "image/png": "[encoded data removed]",
      "text/plain": [
       "<Figure size 1000x700 with 2 Axes>"
      ]
     },
     "metadata": {},
     "output_type": "display_data"
    }
   ],
   "source": [
    "\n",
    "# Plotting\n",
    "plt.figure(figsize=(10, 7))\n",
    "sns.heatmap(cm, annot=True, fmt=\"d\", cmap=\"Blues\", xticklabels=['Neutral', 'Negative', 'Positive'], yticklabels=['Neutral', 'Negative', 'Positive'])\n",
    "plt.ylabel('Actual Labels')\n",
    "plt.xlabel('Predicted Labels')\n",
    "plt.title('Confusion Matrix')\n",
    "plt.show()\n"
   ]
  },
  {
   "cell_type": "markdown",
   "id": "db3bd237",
   "metadata": {
    "papermill": {
     "duration": 0.038329,
     "end_time": "2023-11-15T08:28:42.041205",
     "exception": false,
     "start_time": "2023-11-15T08:28:42.002876",
     "status": "completed"
    },
    "tags": []
   },
   "source": [
    "**Class 0 (Neutral)**\n",
    "\n",
    "True Positives: 5360 (Neutral correctly identified as Neutral)\n",
    "\n",
    "False Positives: 90 (Non-Neutral incorrectly identified as Neutral)\n",
    "\n",
    "False Negatives: 0 (Neutral incorrectly identified as Non-Neutral)\n",
    "\n",
    "True Negatives: This is a bit complex to calculate directly from the information given. It's the sum of all the instances that are correctly identified as not Neutral.\n",
    "\n",
    "**Class 1 (Negative)**\n",
    "\n",
    "True Positives: 2737 (Negative correctly identified as Negative)\n",
    "\n",
    "False Positives: 1232 (Non-Negative incorrectly identified as Negative)\n",
    "\n",
    "False Negatives: 198 (Negative incorrectly identified as Non-Negative)\n",
    "\n",
    "True Negatives: Correctly identified as not Negative (Given as 10545)\n",
    "\n",
    "**Class 2 (Positive)**\n",
    "\n",
    "True Positives: 5118 (Positive correctly identified as Positive)\n",
    "\n",
    "False Positives: 175 (Non-Positive incorrectly identified as Positive)\n",
    "\n",
    "False Negatives: 1299 (Positive incorrectly identified as Non-Positive)\n",
    "\n",
    "True Negatives: Correctly identified as not Positive (Given as 8120)\n",
    "\n",
    "**Overall Model Performance**\n",
    "\n",
    "Total Correct Predictions: 13215 (sum of True Positives for all classes: 5360 + 2737 + 5118 = 13215)\n",
    "\n",
    "Total Incorrect Predictions: 2994 (Sum of false positive and false negative: 1497+1497=2994) \n",
    "\n",
    "Sum of False Positives for all classes: \n",
    "90+1232+175=1497\n",
    "\n",
    "Sum of False Negatives for all classes: \n",
    "0+198+1299=1497\n",
    "\n",
    "\n",
    "The model is very effective at identifying Neutral sentiments (Class 0), evidenced by a high number of True Positives and no False Negatives.\n",
    "\n",
    "The model shows some difficulty in accurately classifying Negative (Class 1) and Positive (Class 2) sentiments, indicated by the higher numbers of False Positives and False Negatives.\n",
    "\n",
    "The high number of False Negatives for Positive sentiments suggests the model often misses identifying positive sentiments, likely misclassifying them as neutral or negative.\n",
    "\n",
    "The total incorrect predictions across all classes are 2994, showing the model's overall error rate and indicating areas for potential improvement.\n"
   ]
  },
  {
   "cell_type": "markdown",
   "id": "2c7c11bb",
   "metadata": {
    "papermill": {
     "duration": 0.037777,
     "end_time": "2023-11-15T08:28:42.117166",
     "exception": false,
     "start_time": "2023-11-15T08:28:42.079389",
     "status": "completed"
    },
    "tags": []
   },
   "source": [
    "# **8. Classification report** <a class=\"anchor\" id=\"8\"></a>\n",
    "\n",
    "[Table of Contents](#0.1)\n"
   ]
  },
  {
   "cell_type": "markdown",
   "id": "65fc7d2e",
   "metadata": {
    "papermill": {
     "duration": 0.037704,
     "end_time": "2023-11-15T08:28:42.192897",
     "exception": false,
     "start_time": "2023-11-15T08:28:42.155193",
     "status": "completed"
    },
    "tags": []
   },
   "source": [
    "\n",
    "\n",
    "**Classification report** is another way to evaluate the classification model performance. It displays the  **precision**, **recall**, **f1** and **support** scores for the model. \n",
    "\n",
    "- Recall or sensitivity is the model ability to correctly indetify a class. Higher sensitivity means  model is good at identifying class.\n",
    "\n",
    "- Specificity is the models ability to correctly reject classes other than the target class. Higher specificity means that the model rarely makes false alarms for that class.\n",
    "\n"
   ]
  },
  {
   "cell_type": "code",
   "execution_count": 42,
   "id": "675facf6",
   "metadata": {
    "execution": {
     "iopub.execute_input": "2024-01-01T05:37:04.633013Z",
     "iopub.status.busy": "2024-01-01T05:37:04.632664Z",
     "iopub.status.idle": "2024-01-01T05:37:04.640721Z",
     "shell.execute_reply": "2024-01-01T05:37:04.639896Z",
     "shell.execute_reply.started": "2024-01-01T05:37:04.632981Z"
    },
    "papermill": {
     "duration": 0.050291,
     "end_time": "2023-11-15T08:28:42.279905",
     "exception": false,
     "start_time": "2023-11-15T08:28:42.229614",
     "status": "completed"
    },
    "tags": []
   },
   "outputs": [],
   "source": [
    "# Calculating classification accuracy for a multiclass model\n",
    "cm = confusion_matrix(y_test, predictions)"
   ]
  },
  {
   "cell_type": "markdown",
   "id": "a842a53b",
   "metadata": {
    "papermill": {
     "duration": 0.036764,
     "end_time": "2023-11-15T08:28:42.355605",
     "exception": false,
     "start_time": "2023-11-15T08:28:42.318841",
     "status": "completed"
    },
    "tags": []
   },
   "source": [
    "### Classification error"
   ]
  },
  {
   "cell_type": "markdown",
   "id": "f120a091",
   "metadata": {
    "papermill": {
     "duration": 0.035692,
     "end_time": "2023-11-15T08:28:42.428570",
     "exception": false,
     "start_time": "2023-11-15T08:28:42.392878",
     "status": "completed"
    },
    "tags": []
   },
   "source": [
    "The classification error is then calculated by dividing the total number of incorrect predictions by the total number of predictions.\n",
    "This value represents the proportion of predictions that the model got wrong."
   ]
  },
  {
   "cell_type": "code",
   "execution_count": 43,
   "id": "ba60b48b",
   "metadata": {
    "execution": {
     "iopub.execute_input": "2024-01-01T05:37:04.643215Z",
     "iopub.status.busy": "2024-01-01T05:37:04.642408Z",
     "iopub.status.idle": "2024-01-01T05:37:04.651268Z",
     "shell.execute_reply": "2024-01-01T05:37:04.650118Z",
     "shell.execute_reply.started": "2024-01-01T05:37:04.643172Z"
    },
    "papermill": {
     "duration": 0.050301,
     "end_time": "2023-11-15T08:28:42.515984",
     "exception": false,
     "start_time": "2023-11-15T08:28:42.465683",
     "status": "completed"
    },
    "tags": []
   },
   "outputs": [
    {
     "name": "stdout",
     "output_type": "stream",
     "text": [
      "Classification error : 0.1018\n"
     ]
    }
   ],
   "source": [
    "# Calculation of classification error\n",
    "total_predictions = cm.sum()\n",
    "total_incorrect_predictions = cm.sum(axis=0) - np.diag(cm)\n",
    "total_incorrect_predictions = total_incorrect_predictions.sum()\n",
    "\n",
    "classification_error = total_incorrect_predictions / total_predictions\n",
    "print('Classification error : {0:0.4f}'.format(classification_error))"
   ]
  },
  {
   "cell_type": "markdown",
   "id": "aed1603a",
   "metadata": {
    "papermill": {
     "duration": 0.036619,
     "end_time": "2023-11-15T08:28:42.590570",
     "exception": false,
     "start_time": "2023-11-15T08:28:42.553951",
     "status": "completed"
    },
    "tags": []
   },
   "source": [
    "### Recall\n",
    "\n",
    "\n",
    "Recall can be defined as the percentage of correctly predicted positive outcomes out of all the actual positive outcomes.\n",
    "It can be given as the ratio of true positives (TP) to the sum of true positives and false negatives (TP + FN). **Recall** is also called **Sensitivity**.\n",
    "\n",
    "\n",
    "**Recall** identifies the proportion of correctly predicted actual positives.\n",
    "\n",
    "\n",
    "Mathematically, recall can be given as the ratio of `TP to (TP + FN)`.\n"
   ]
  },
  {
   "cell_type": "code",
   "execution_count": 44,
   "id": "b154f397",
   "metadata": {
    "execution": {
     "iopub.execute_input": "2024-01-01T05:37:04.653746Z",
     "iopub.status.busy": "2024-01-01T05:37:04.652914Z",
     "iopub.status.idle": "2024-01-01T05:37:04.665706Z",
     "shell.execute_reply": "2024-01-01T05:37:04.664410Z",
     "shell.execute_reply.started": "2024-01-01T05:37:04.653699Z"
    },
    "papermill": {
     "duration": 0.049225,
     "end_time": "2023-11-15T08:28:42.676217",
     "exception": false,
     "start_time": "2023-11-15T08:28:42.626992",
     "status": "completed"
    },
    "tags": []
   },
   "outputs": [
    {
     "name": "stdout",
     "output_type": "stream",
     "text": [
      "Recall or Sensitivity for each class: [0.98348624 0.68959436 0.96693746]\n",
      "Average Recall or Sensitivity : 0.8800\n"
     ]
    }
   ],
   "source": [
    "# Initialize arrays to store recall for each class\n",
    "recalls = np.zeros(cm.shape[0])\n",
    "\n",
    "# Calculating recall for each class\n",
    "for i in range(cm.shape[0]):\n",
    "    TP = cm[i, i]\n",
    "    FN = cm[i, :].sum() - TP\n",
    "    recalls[i] = TP / float(TP + FN) if (TP + FN) != 0 else 0\n",
    "\n",
    "# Average recall across all classes\n",
    "average_recall = np.mean(recalls)\n",
    "\n",
    "print('Recall or Sensitivity for each class:', recalls)\n",
    "print('Average Recall or Sensitivity : {:.4f}'.format(average_recall))"
   ]
  },
  {
   "cell_type": "markdown",
   "id": "ba7410d0",
   "metadata": {
    "papermill": {
     "duration": 0.036253,
     "end_time": "2023-11-15T08:28:42.749014",
     "exception": false,
     "start_time": "2023-11-15T08:28:42.712761",
     "status": "completed"
    },
    "tags": []
   },
   "source": [
    "**Sensitivity**\n",
    "\n",
    "neutral: 0.98348624 \n",
    "\n",
    "negative: 0.68959436 \n",
    "\n",
    "positive: 0.96693746\n",
    "\n",
    "\n",
    "Average: 0.8800"
   ]
  },
  {
   "cell_type": "markdown",
   "id": "d685cd9f",
   "metadata": {
    "papermill": {
     "duration": 0.037044,
     "end_time": "2023-11-15T08:28:42.823329",
     "exception": false,
     "start_time": "2023-11-15T08:28:42.786285",
     "status": "completed"
    },
    "tags": []
   },
   "source": [
    "### Specificity\n",
    "\n",
    "Specificity, often used in the context of binary classification, is the measure of a model's ability to correctly identify true negatives. It answers the question: \"Of all the instances that are truly negatives, how many did the model correctly identify?\"\n",
    "\n",
    "It is give by the ration of true negatives and sum of true negatives and false postivies\n",
    "\n",
    "Specificity is the models ability to correctly reject classes other than the target class. Higher specificity means that the model rarely makes false alarms for that class.\n",
    "\n"
   ]
  },
  {
   "cell_type": "code",
   "execution_count": 45,
   "id": "6a1c062f",
   "metadata": {
    "execution": {
     "iopub.execute_input": "2024-01-01T05:37:04.667516Z",
     "iopub.status.busy": "2024-01-01T05:37:04.667135Z",
     "iopub.status.idle": "2024-01-01T05:37:04.682561Z",
     "shell.execute_reply": "2024-01-01T05:37:04.681441Z",
     "shell.execute_reply.started": "2024-01-01T05:37:04.667484Z"
    },
    "papermill": {
     "duration": 0.051402,
     "end_time": "2023-11-15T08:28:42.912405",
     "exception": false,
     "start_time": "2023-11-15T08:28:42.861003",
     "status": "completed"
    },
    "tags": []
   },
   "outputs": [
    {
     "name": "stdout",
     "output_type": "stream",
     "text": [
      "Specificity for each class: [1.         0.98156939 0.86208727]\n",
      "Average Specificity : 0.9479\n"
     ]
    }
   ],
   "source": [
    "# Initialize arrays to store specificity for each class\n",
    "specificities = np.zeros(cm.shape[0])\n",
    "\n",
    "# Calculating specificity for each class\n",
    "for i in range(cm.shape[0]):\n",
    "    TN = cm.sum() - (cm[i, :].sum() + cm[:, i].sum() - cm[i, i])\n",
    "    FP = cm[:, i].sum() - cm[i, i]\n",
    "    specificities[i] = TN / float(TN + FP) if (TN + FP) != 0 else 0\n",
    "\n",
    "# Average specificity across all classes\n",
    "average_specificity = np.mean(specificities)\n",
    "\n",
    "print('Specificity for each class:', specificities)\n",
    "print('Average Specificity : {:.4f}'.format(average_specificity))"
   ]
  },
  {
   "cell_type": "markdown",
   "id": "cef4a8a0",
   "metadata": {
    "papermill": {
     "duration": 0.03678,
     "end_time": "2023-11-15T08:28:42.986549",
     "exception": false,
     "start_time": "2023-11-15T08:28:42.949769",
     "status": "completed"
    },
    "tags": []
   },
   "source": [
    "**Specificity**\n",
    "\n",
    "neutral: 1 \n",
    "\n",
    "negative: 0.98156939  \n",
    "\n",
    "positive: 0.86208727\n",
    "\n",
    "\n",
    "Average: 0.9479"
   ]
  },
  {
   "cell_type": "markdown",
   "id": "f6fd4d16",
   "metadata": {
    "papermill": {
     "duration": 0.037393,
     "end_time": "2023-11-15T08:28:43.060828",
     "exception": false,
     "start_time": "2023-11-15T08:28:43.023435",
     "status": "completed"
    },
    "tags": []
   },
   "source": [
    "rade-offs: Increasing specificity (reducing false positives) can sometimes lead to a decrease in sensitivity or recall (the ability to identify true positives), especially in models where there is a delicate balance between false positives and false negatives."
   ]
  },
  {
   "cell_type": "markdown",
   "id": "bbc2ab48",
   "metadata": {
    "papermill": {
     "duration": 0.038074,
     "end_time": "2023-11-15T08:28:43.134830",
     "exception": false,
     "start_time": "2023-11-15T08:28:43.096756",
     "status": "completed"
    },
    "tags": []
   },
   "source": [
    "### Precision\n",
    "\n",
    "\n",
    "**Precision** can be defined as the percentage of correctly predicted positive outcomes out of all the predicted positive outcomes. It can be given as the ratio of true positives (TP) to the sum of true and false positives (TP + FP). \n",
    "\n",
    "\n",
    "So, **Precision** identifies the proportion of correctly predicted positive outcome. It is more concerned with the positive class than the negative class.\n",
    "\n",
    "\n",
    "\n",
    "Mathematically, precision can be defined as the ratio of `TP to (TP + FP)`.\n"
   ]
  },
  {
   "cell_type": "code",
   "execution_count": 46,
   "id": "c159ecae",
   "metadata": {
    "execution": {
     "iopub.execute_input": "2024-01-01T05:37:04.684164Z",
     "iopub.status.busy": "2024-01-01T05:37:04.683812Z",
     "iopub.status.idle": "2024-01-01T05:37:04.695156Z",
     "shell.execute_reply": "2024-01-01T05:37:04.693938Z",
     "shell.execute_reply.started": "2024-01-01T05:37:04.684128Z"
    },
    "papermill": {
     "duration": 0.050675,
     "end_time": "2023-11-15T08:28:43.224010",
     "exception": false,
     "start_time": "2023-11-15T08:28:43.173335",
     "status": "completed"
    },
    "tags": []
   },
   "outputs": [
    {
     "name": "stdout",
     "output_type": "stream",
     "text": [
      "Precision for each class: [1.         0.93253833 0.79756896]\n",
      "Average Precision : 0.9100\n"
     ]
    }
   ],
   "source": [
    "# Initialize an array to store precision for each class\n",
    "precisions = np.zeros(cm.shape[0])\n",
    "\n",
    "# Calculating precision for each class\n",
    "for i in range(cm.shape[0]):\n",
    "    TP = cm[i, i]\n",
    "    FP = cm[:, i].sum() - TP\n",
    "    precisions[i] = TP / float(TP + FP) if (TP + FP) != 0 else 0\n",
    "\n",
    "# Average precision across all classes\n",
    "average_precision = np.mean(precisions)\n",
    "\n",
    "print('Precision for each class:', precisions)\n",
    "print('Average Precision : {:.4f}'.format(average_precision))"
   ]
  },
  {
   "cell_type": "markdown",
   "id": "2448ca2a",
   "metadata": {
    "papermill": {
     "duration": 0.037217,
     "end_time": "2023-11-15T08:28:43.299173",
     "exception": false,
     "start_time": "2023-11-15T08:28:43.261956",
     "status": "completed"
    },
    "tags": []
   },
   "source": [
    "**Precision**\n",
    "\n",
    "neutral: 1 \n",
    "\n",
    "negative: 0.93253833   \n",
    "\n",
    "positive: 0.79756896\n",
    "\n",
    "\n",
    "Average: 0.9100"
   ]
  },
  {
   "cell_type": "markdown",
   "id": "a629d153",
   "metadata": {
    "papermill": {
     "duration": 0.038003,
     "end_time": "2023-11-15T08:28:43.375695",
     "exception": false,
     "start_time": "2023-11-15T08:28:43.337692",
     "status": "completed"
    },
    "tags": []
   },
   "source": [
    "### f1-score\n",
    "\n",
    "\n",
    "**f1-score** is the weighted harmonic mean of precision and recall. The best possible **f1-score** would be 1.0 and the worst \n",
    "would be 0.0.  **f1-score** is the harmonic mean of precision and recall. So, **f1-score** is always lower than accuracy measures as they embed precision and recall into their computation. The weighted average of `f1-score` should be used to \n",
    "compare classifier models, not global accuracy.\n"
   ]
  },
  {
   "cell_type": "code",
   "execution_count": 47,
   "id": "1537b79a",
   "metadata": {
    "execution": {
     "iopub.execute_input": "2024-01-01T05:37:04.696775Z",
     "iopub.status.busy": "2024-01-01T05:37:04.696343Z",
     "iopub.status.idle": "2024-01-01T05:37:04.744450Z",
     "shell.execute_reply": "2024-01-01T05:37:04.743220Z",
     "shell.execute_reply.started": "2024-01-01T05:37:04.696732Z"
    },
    "papermill": {
     "duration": 0.091641,
     "end_time": "2023-11-15T08:28:43.506865",
     "exception": false,
     "start_time": "2023-11-15T08:28:43.415224",
     "status": "completed"
    },
    "tags": []
   },
   "outputs": [
    {
     "name": "stdout",
     "output_type": "stream",
     "text": [
      "              precision    recall  f1-score   support\n",
      "\n",
      "           0       1.00      0.98      0.99      5450\n",
      "           1       0.93      0.69      0.79      3969\n",
      "           2       0.80      0.97      0.87      5293\n",
      "\n",
      "    accuracy                           0.90     14712\n",
      "   macro avg       0.91      0.88      0.89     14712\n",
      "weighted avg       0.91      0.90      0.90     14712\n",
      "\n"
     ]
    }
   ],
   "source": [
    "# Assuming y_test and predictions are already defined\n",
    "print(classification_report(y_test, predictions))\n",
    "\n",
    "# Calculating classification accuracy for a multiclass model\n",
    "cm = confusion_matrix(y_test, predictions)\n",
    "\n",
    "# True Positives (TP) are the diagonal elements\n",
    "TP = np.diag(cm).sum()\n",
    "\n",
    "# True Negatives (TN) are not directly used in multiclass classification accuracy\n",
    "\n",
    "# False Positives (FP) for each class are all the elements in the predicted class column, excluding the TP for that class\n",
    "FP = cm.sum(axis=0) - np.diag(cm)\n",
    "\n",
    "# False Negatives (FN) for each class are all the elements in the actual class row, excluding the TP for that class\n",
    "FN = cm.sum(axis=1) - np.diag(cm)\n",
    "\n",
    "# Total number of instances\n",
    "total = cm.sum()\n",
    "\n",
    "# Classification accuracy calculation\n",
    "classification_accuracy = TP / total\n"
   ]
  },
  {
   "cell_type": "markdown",
   "id": "9f0fcbb7",
   "metadata": {
    "papermill": {
     "duration": 0.038173,
     "end_time": "2023-11-15T08:28:43.586054",
     "exception": false,
     "start_time": "2023-11-15T08:28:43.547881",
     "status": "completed"
    },
    "tags": []
   },
   "source": [
    "**Class 0 (Neutral)**\n",
    "\n",
    "Precision: 1.00 - The model correctly identifies 100% of the instances it labels as Class 0.\n",
    "\n",
    "Recall: 0.98 - The model correctly identifies 98% of the actual instances of Class 0.\n",
    "\n",
    "F1-Score: 0.99 - This high F1-score indicates a very good balance of precision and recall for Class 0.\n",
    "\n",
    "**Class 1 (Negative)**\n",
    "\n",
    "Precision: 0.93 - The model correctly identifies 93% of the instances it labels as Class 1.\n",
    "\n",
    "Recall: 0.69 - The model correctly identifies 69% of the actual instances of Class 1.\n",
    "\n",
    "F1-Score: 0.79 - The lower F1-score compared to Class 0 indicates a less balanced performance in precision and recall for Class 1.\n",
    "\n",
    "**Class 2 (Positive)**\n",
    "\n",
    "Precision: 0.80 - The model correctly identifies 80% of the instances it labels as Class 2.\n",
    "\n",
    "Recall: 0.97 - The model correctly identifies 97% of the actual instances of Class 2.\n",
    "\n",
    "F1-Score: 0.87 - This F1-score indicates a good balance between precision and recall, though with more weight on recall.\n"
   ]
  },
  {
   "cell_type": "markdown",
   "id": "71b8dbca",
   "metadata": {
    "papermill": {
     "duration": 0.035973,
     "end_time": "2023-11-15T08:28:43.659135",
     "exception": false,
     "start_time": "2023-11-15T08:28:43.623162",
     "status": "completed"
    },
    "tags": []
   },
   "source": [
    "# **9. ROC** <a class=\"anchor\" id=\"9\"></a>\n",
    "\n",
    "[Table of Contents](#0.1)\n",
    "\n",
    "\n",
    "Another tool to measure the classification model performance visually is **ROC Curve**. ROC Curve stands for **Receiver Operating Characteristic Curve**. An **ROC Curve** is a plot which shows the performance of a classification model at various \n",
    "classification threshold levels. \n",
    "\n",
    "\n",
    "\n",
    "The **ROC Curve** plots the **True Positive Rate (TPR)** against the **False Positive Rate (FPR)** at various threshold levels.\n",
    "\n",
    "\n",
    "\n",
    "**True Positive Rate (TPR)** is also called **Recall**. It is defined as the ratio of `TP to (TP + FN)`.\n",
    "\n",
    "\n",
    "\n",
    "\n",
    "**False Positive Rate (FPR)** is defined as the ratio of `FP to (FP + TN)`.\n",
    "\n",
    "\n",
    "\n",
    "In the ROC Curve, we will focus on the TPR (True Positive Rate) and FPR (False Positive Rate) of a single point. This will give us the general performance of the ROC curve which consists of the TPR and FPR at various threshold levels. So, an ROC Curve plots TPR vs FPR at different classification threshold levels. If we lower the threshold levels, it may result in more items being classified as positve. It will increase both True Positives (TP) and False Positives (FP).\n",
    "\n"
   ]
  },
  {
   "cell_type": "code",
   "execution_count": 48,
   "id": "dc9836a9",
   "metadata": {
    "execution": {
     "iopub.execute_input": "2024-01-01T05:37:04.746454Z",
     "iopub.status.busy": "2024-01-01T05:37:04.745981Z",
     "iopub.status.idle": "2024-01-01T05:37:05.118851Z",
     "shell.execute_reply": "2024-01-01T05:37:05.117639Z",
     "shell.execute_reply.started": "2024-01-01T05:37:04.746410Z"
    },
    "papermill": {
     "duration": 0.391462,
     "end_time": "2023-11-15T08:28:44.087882",
     "exception": false,
     "start_time": "2023-11-15T08:28:43.696420",
     "status": "completed"
    },
    "tags": []
   },
   "outputs": [
    {
     "data": {
      "image/png": "[encoded data removed]",
      "text/plain": [
       "<Figure size 800x600 with 1 Axes>"
      ]
     },
     "metadata": {},
     "output_type": "display_data"
    }
   ],
   "source": [
    "\n",
    "# Binarize the output labels for each class\n",
    "y_test_binarized = label_binarize(y_test, classes=[0, 1, 2])\n",
    "n_classes = y_test_binarized.shape[1]\n",
    "\n",
    "# Predict probabilities\n",
    "y_score = nb_classifier.predict_proba(X_test)\n",
    "\n",
    "# Compute ROC curve and ROC area for each class\n",
    "fpr = dict()\n",
    "tpr = dict()\n",
    "roc_auc = dict()\n",
    "for i in range(n_classes):\n",
    "    fpr[i], tpr[i], _ = roc_curve(y_test_binarized[:, i], y_score[:, i])\n",
    "    roc_auc[i] = auc(fpr[i], tpr[i])\n",
    "\n",
    "# Plot all ROC curves\n",
    "plt.figure(figsize=(8, 6))\n",
    "\n",
    "colors = cycle(['blue', 'red', 'green'])\n",
    "for i, color in zip(range(n_classes), colors):\n",
    "    plt.plot(fpr[i], tpr[i], color=color, lw=2,\n",
    "             label='ROC curve of class {0} (area = {1:0.2f})'.format(i, roc_auc[i]))\n",
    "\n",
    "plt.plot([0, 1], [0, 1], 'k--', lw=2)\n",
    "plt.xlim([0.0, 1.0])\n",
    "plt.ylim([0.0, 1.05])\n",
    "plt.xlabel('False Positive Rate')\n",
    "plt.ylabel('True Positive Rate')\n",
    "plt.title('Multi-class ROC for Sentiment Analysis')\n",
    "plt.legend(loc=\"lower right\")\n",
    "plt.show()\n"
   ]
  },
  {
   "cell_type": "markdown",
   "id": "a3b089d8",
   "metadata": {
    "papermill": {
     "duration": 0.043677,
     "end_time": "2023-11-15T08:28:44.175614",
     "exception": false,
     "start_time": "2023-11-15T08:28:44.131937",
     "status": "completed"
    },
    "tags": []
   },
   "source": [
    "### ROC  AUC\n",
    "​\n",
    "​\n",
    "**ROC AUC** stands for **Receiver Operating Characteristic - Area Under Curve**. It is a technique to compare classifier performance. In this technique, we measure the `area under the curve (AUC)`. A perfect classifier will have a ROC AUC equal to 1, whereas a purely random classifier will have a ROC AUC equal to 0.5. \n",
    "​\n",
    "​\n",
    "So, **ROC AUC** is the percentage of the ROC plot that is underneath the curve."
   ]
  },
  {
   "cell_type": "code",
   "execution_count": 49,
   "id": "3c411152",
   "metadata": {
    "execution": {
     "iopub.execute_input": "2024-01-01T05:37:05.120839Z",
     "iopub.status.busy": "2024-01-01T05:37:05.120478Z",
     "iopub.status.idle": "2024-01-01T05:37:05.151389Z",
     "shell.execute_reply": "2024-01-01T05:37:05.150238Z",
     "shell.execute_reply.started": "2024-01-01T05:37:05.120807Z"
    },
    "papermill": {
     "duration": 0.071392,
     "end_time": "2023-11-15T08:28:44.286185",
     "exception": false,
     "start_time": "2023-11-15T08:28:44.214793",
     "status": "completed"
    },
    "tags": []
   },
   "outputs": [
    {
     "name": "stdout",
     "output_type": "stream",
     "text": [
      "ROC AUC : 0.9797\n"
     ]
    }
   ],
   "source": [
    "\n",
    "\n",
    "# Binarize the y_test labels for multi-class ROC AUC calculation\n",
    "y_test_binarized = label_binarize(y_test, classes=[0, 1, 2])\n",
    "\n",
    "# Predict probabilities for each class\n",
    "y_score = nb_classifier.predict_proba(X_test)\n",
    "\n",
    "# Compute ROC AUC\n",
    "# For multi-class, specify 'ovr' for One-vs-Rest or use 'weighted' for weighted averaging\n",
    "ROC_AUC = roc_auc_score(y_test_binarized, y_score, multi_class='ovr')\n",
    "\n",
    "print('ROC AUC : {:.4f}'.format(ROC_AUC))\n"
   ]
  },
  {
   "cell_type": "markdown",
   "id": "d7f87e88",
   "metadata": {
    "papermill": {
     "duration": 0.039251,
     "end_time": "2023-11-15T08:28:44.365850",
     "exception": false,
     "start_time": "2023-11-15T08:28:44.326599",
     "status": "completed"
    },
    "tags": []
   },
   "source": [
    "he AUC (Area Under the Curve) values of the ROC (Receiver Operating Characteristic) curves for each class of your model provide a quantitative measure of its performance in distinguishing between the positive class and the negative classes for each category. Let's interpret these AUC values for your model:\n",
    "\n",
    "Class 0 (AUC = 1.00):\n",
    "\n",
    "An AUC of 1.00 for Class 0 indicates perfect discrimination. This means that the model is able to distinguish between Class 0 and the other classes (Class 1 and Class 2) with 100% accuracy.\n",
    "\n",
    "In practical terms, this suggests that for Class 0, the model has an ideal balance of true positive and true negative rates, with no overlap between the score distributions of the positive class and the negative classes.\n",
    "\n",
    "Class 1 (AUC = 0.96):\n",
    "\n",
    "An AUC of 0.96 for Class 1 is very high and indicates excellent model performance in distinguishing between Class 1 and the other classes.\n",
    "\n",
    "This value suggests that the model has a very high true positive rate and a low false positive rate for Class 1. \n",
    "\n",
    "There is a small overlap between the score distributions of Class 1 and the other classes, but it is minimal.\n",
    "\n",
    "Class 2 (AUC = 0.98):\n",
    "\n",
    "An AUC of 0.98 for Class 2 also signifies outstanding discrimination ability. The model is highly effective in distinguishing Class 2 from the other classes.\n",
    "\n",
    "This high AUC value implies that the model correctly identifies Class 2 instances with a high true positive rate while maintaining a low false positive rate."
   ]
  },
  {
   "cell_type": "markdown",
   "id": "6c4352c8",
   "metadata": {
    "papermill": {
     "duration": 0.038879,
     "end_time": "2023-11-15T08:28:44.443195",
     "exception": false,
     "start_time": "2023-11-15T08:28:44.404316",
     "status": "completed"
    },
    "tags": []
   },
   "source": [
    "### Tuning and validation controls\n",
    "\n",
    "we did Holdout validation which is  divided into two parts. The training set and the testing (or holdout) set. The model is trained on the training set and then evaluated on the unseen testing set.\n",
    "\n",
    "We could also utilize:\n",
    "\n",
    "Cross-validation (k-fold) - is dividing the dataset into 'k' subsets (or folds). The model is trained and validated 'k' times, each time using a different fold for validation and the remaining 'k-1' folds for training. It ensures that every data point gets to be in the test set exactly once and in the training set 'k-1' times, providing a more comprehensive assessment of the model's performance. Which basically reduces 'luck' in the validation set which would influence the performance. It is cruscial to choose the right k which depends on the size and nature of the dataset\n",
    "\n",
    "Leave one out - is a special case of k-fold cross-validation where 'k' equals the number of data points in the dataset. Essentially, for a dataset with 'N' instances, the model is trained 'N' times, each time using one instance for testing and the remaining 'N-1' instances for training. It is used when the dataset is small, and max use of data for training is desired. Everysignle datapoint is used for training and validation. But it can be computationally expensive"
   ]
  },
  {
   "cell_type": "markdown",
   "id": "a11e01aa",
   "metadata": {
    "papermill": {
     "duration": 0.038895,
     "end_time": "2023-11-15T08:28:44.520706",
     "exception": false,
     "start_time": "2023-11-15T08:28:44.481811",
     "status": "completed"
    },
    "tags": []
   },
   "source": [
    "# **10. Conclusion** <a class=\"anchor\" id=\"10\"></a>\n",
    "\n",
    "[Table of Contents](#0.1)\n"
   ]
  },
  {
   "cell_type": "markdown",
   "id": "a94cf705",
   "metadata": {
    "papermill": {
     "duration": 0.037778,
     "end_time": "2023-11-15T08:28:44.596909",
     "exception": false,
     "start_time": "2023-11-15T08:28:44.559131",
     "status": "completed"
    },
    "tags": []
   },
   "source": [
    "\n",
    "**Exceptional Performance on Class 0 (Neutral):**\n",
    "\n",
    "With an F1-score of 0.99 and an AUC of 1.00, your model excels at identifying neutral sentiments. This indicates that the model has an ideal balance of precision and recall for Class 0, with virtually no misclassifications.\n",
    "\n",
    "The model is very good bewteen distinguish from different classe. For Class 1 (Negative) and Class 2 (Positive):\n",
    "\n",
    "The model also performs very well in distinguishing negative and positive sentiments, as indicated by the high AUC values of 0.96 for Class 1 and 0.98 for Class 2.\n",
    "\n",
    "The F1-scores for these classes is 0.79 for Class 1 and 0.87 for Class 2\n",
    "\n",
    "**High Overall Accuracy:**\n",
    "\n",
    "An overall accuracy of 0.90 demonstrates that the model is generally reliable across all sentiment classes.\n",
    "\n",
    "**Areas for Improvement**\n",
    "\n",
    "Class 1 (Negative) Performance:\n",
    "\n",
    "While still good, the performance on Class 1 is slightly lower compared to the other classes. The F1-score of 0.79 suggests there is some room for improvement, particularly in increasing the recall (0.69) without significantly sacrificing precision (0.93).\n",
    "Balancing Precision and Recall for Class 2 (Positive):\n",
    "\n",
    "For Class 2, while the recall is very high (0.97), precision is relatively lower (0.80). This suggests that while the model is adept at identifying most positive sentiments, it also has a higher tendency to misclassify some non-positive sentiments as positive."
   ]
  },
  {
   "cell_type": "code",
   "execution_count": null,
   "id": "3be6033c",
   "metadata": {
    "papermill": {
     "duration": 0.037493,
     "end_time": "2023-11-15T08:28:44.672802",
     "exception": false,
     "start_time": "2023-11-15T08:28:44.635309",
     "status": "completed"
    },
    "tags": []
   },
   "outputs": [],
   "source": []
  }
 ],
 "metadata": {
  "kaggle": {
   "accelerator": "none",
   "dataSources": [
    {
     "datasetId": 1520310,
     "sourceId": 2510329,
     "sourceType": "datasetVersion"
    },
    {
     "datasetId": 4245445,
     "sourceId": 7316038,
     "sourceType": "datasetVersion"
    }
   ],
   "dockerImageVersionId": 30626,
   "isGpuEnabled": false,
   "isInternetEnabled": true,
   "language": "python",
   "sourceType": "notebook"
  },
  "kernelspec": {
   "display_name": "Python 3 (ipykernel)",
   "language": "python",
   "name": "python3"
  },
  "language_info": {
   "codemirror_mode": {
    "name": "ipython",
    "version": 3
   },
   "file_extension": ".py",
   "mimetype": "text/x-python",
   "name": "python",
   "nbconvert_exporter": "python",
   "pygments_lexer": "ipython3",
   "version": "3.10.12"
  },
  "papermill": {
   "default_parameters": {},
   "duration": 90.832158,
   "end_time": "2023-11-15T08:28:45.430825",
   "environment_variables": {},
   "exception": null,
   "input_path": "__notebook__.ipynb",
   "output_path": "__notebook__.ipynb",
   "parameters": {},
   "start_time": "2023-11-15T08:27:14.598667",
   "version": "2.4.0"
  }
 },
 "nbformat": 4,
 "nbformat_minor": 5
}
